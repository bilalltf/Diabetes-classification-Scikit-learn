{
  "nbformat": 4,
  "nbformat_minor": 0,
  "metadata": {
    "colab": {
      "name": "Classification_of_diabetes disease.ipynb",
      "provenance": [],
      "collapsed_sections": [
        "vT2TVhf32hJp"
      ]
    },
    "kernelspec": {
      "display_name": "Python 3",
      "name": "python3"
    },
    "language_info": {
      "name": "python"
    }
  },
  "cells": [
    {
      "cell_type": "markdown",
      "metadata": {
        "id": "Cmgt84sgCWDq"
      },
      "source": [
        "# Data Understanding & Preprocessing"
      ]
    },
    {
      "cell_type": "code",
      "metadata": {
        "id": "WihEvo7c1pWN"
      },
      "source": [
        "import pandas as pd\n",
        "import numpy as np\n",
        "import seaborn as sb\n",
        "import matplotlib.pyplot as plt\n",
        "\n",
        "from sklearn.linear_model import LogisticRegression\n",
        "from sklearn.model_selection import train_test_split\n",
        "from sklearn.metrics import *\n"
      ],
      "execution_count": null,
      "outputs": []
    },
    {
      "cell_type": "code",
      "metadata": {
        "id": "qhqyUNMG4UfM"
      },
      "source": [
        "data = pd.read_csv(\"diabetes.csv\",sep = ',')\n",
        "cols = [\"Glucose\", \"BloodPressure\", \"Insulin\",\"SkinThickness\", \"BMI\"]"
      ],
      "execution_count": null,
      "outputs": []
    },
    {
      "cell_type": "code",
      "metadata": {
        "colab": {
          "base_uri": "https://localhost:8080/",
          "height": 204
        },
        "id": "xeM3opB-del2",
        "outputId": "c8d2b3bf-5e8a-48d8-8b92-c0fb638ef395"
      },
      "source": [
        "data.head()"
      ],
      "execution_count": null,
      "outputs": [
        {
          "output_type": "execute_result",
          "data": {
            "text/html": [
              "<div>\n",
              "<style scoped>\n",
              "    .dataframe tbody tr th:only-of-type {\n",
              "        vertical-align: middle;\n",
              "    }\n",
              "\n",
              "    .dataframe tbody tr th {\n",
              "        vertical-align: top;\n",
              "    }\n",
              "\n",
              "    .dataframe thead th {\n",
              "        text-align: right;\n",
              "    }\n",
              "</style>\n",
              "<table border=\"1\" class=\"dataframe\">\n",
              "  <thead>\n",
              "    <tr style=\"text-align: right;\">\n",
              "      <th></th>\n",
              "      <th>Pregnancies</th>\n",
              "      <th>Glucose</th>\n",
              "      <th>BloodPressure</th>\n",
              "      <th>SkinThickness</th>\n",
              "      <th>Insulin</th>\n",
              "      <th>BMI</th>\n",
              "      <th>DiabetesPedigreeFunction</th>\n",
              "      <th>Age</th>\n",
              "      <th>Outcome</th>\n",
              "    </tr>\n",
              "  </thead>\n",
              "  <tbody>\n",
              "    <tr>\n",
              "      <th>0</th>\n",
              "      <td>6</td>\n",
              "      <td>148</td>\n",
              "      <td>72</td>\n",
              "      <td>35</td>\n",
              "      <td>0</td>\n",
              "      <td>33.6</td>\n",
              "      <td>0.627</td>\n",
              "      <td>50</td>\n",
              "      <td>1</td>\n",
              "    </tr>\n",
              "    <tr>\n",
              "      <th>1</th>\n",
              "      <td>1</td>\n",
              "      <td>85</td>\n",
              "      <td>66</td>\n",
              "      <td>29</td>\n",
              "      <td>0</td>\n",
              "      <td>26.6</td>\n",
              "      <td>0.351</td>\n",
              "      <td>31</td>\n",
              "      <td>0</td>\n",
              "    </tr>\n",
              "    <tr>\n",
              "      <th>2</th>\n",
              "      <td>8</td>\n",
              "      <td>183</td>\n",
              "      <td>64</td>\n",
              "      <td>0</td>\n",
              "      <td>0</td>\n",
              "      <td>23.3</td>\n",
              "      <td>0.672</td>\n",
              "      <td>32</td>\n",
              "      <td>1</td>\n",
              "    </tr>\n",
              "    <tr>\n",
              "      <th>3</th>\n",
              "      <td>1</td>\n",
              "      <td>89</td>\n",
              "      <td>66</td>\n",
              "      <td>23</td>\n",
              "      <td>94</td>\n",
              "      <td>28.1</td>\n",
              "      <td>0.167</td>\n",
              "      <td>21</td>\n",
              "      <td>0</td>\n",
              "    </tr>\n",
              "    <tr>\n",
              "      <th>4</th>\n",
              "      <td>0</td>\n",
              "      <td>137</td>\n",
              "      <td>40</td>\n",
              "      <td>35</td>\n",
              "      <td>168</td>\n",
              "      <td>43.1</td>\n",
              "      <td>2.288</td>\n",
              "      <td>33</td>\n",
              "      <td>1</td>\n",
              "    </tr>\n",
              "  </tbody>\n",
              "</table>\n",
              "</div>"
            ],
            "text/plain": [
              "   Pregnancies  Glucose  BloodPressure  ...  DiabetesPedigreeFunction  Age  Outcome\n",
              "0            6      148             72  ...                     0.627   50        1\n",
              "1            1       85             66  ...                     0.351   31        0\n",
              "2            8      183             64  ...                     0.672   32        1\n",
              "3            1       89             66  ...                     0.167   21        0\n",
              "4            0      137             40  ...                     2.288   33        1\n",
              "\n",
              "[5 rows x 9 columns]"
            ]
          },
          "metadata": {
            "tags": []
          },
          "execution_count": 100
        }
      ]
    },
    {
      "cell_type": "code",
      "metadata": {
        "colab": {
          "base_uri": "https://localhost:8080/",
          "height": 317
        },
        "id": "gFl0IDrMm5n0",
        "outputId": "fab3f797-95a4-42c3-8dcf-ace27d355bf4"
      },
      "source": [
        "data.describe()"
      ],
      "execution_count": null,
      "outputs": [
        {
          "output_type": "execute_result",
          "data": {
            "text/html": [
              "<div>\n",
              "<style scoped>\n",
              "    .dataframe tbody tr th:only-of-type {\n",
              "        vertical-align: middle;\n",
              "    }\n",
              "\n",
              "    .dataframe tbody tr th {\n",
              "        vertical-align: top;\n",
              "    }\n",
              "\n",
              "    .dataframe thead th {\n",
              "        text-align: right;\n",
              "    }\n",
              "</style>\n",
              "<table border=\"1\" class=\"dataframe\">\n",
              "  <thead>\n",
              "    <tr style=\"text-align: right;\">\n",
              "      <th></th>\n",
              "      <th>Pregnancies</th>\n",
              "      <th>Glucose</th>\n",
              "      <th>BloodPressure</th>\n",
              "      <th>SkinThickness</th>\n",
              "      <th>Insulin</th>\n",
              "      <th>BMI</th>\n",
              "      <th>DiabetesPedigreeFunction</th>\n",
              "      <th>Age</th>\n",
              "      <th>Outcome</th>\n",
              "    </tr>\n",
              "  </thead>\n",
              "  <tbody>\n",
              "    <tr>\n",
              "      <th>count</th>\n",
              "      <td>768.000000</td>\n",
              "      <td>768.000000</td>\n",
              "      <td>768.000000</td>\n",
              "      <td>768.000000</td>\n",
              "      <td>768.000000</td>\n",
              "      <td>768.000000</td>\n",
              "      <td>768.000000</td>\n",
              "      <td>768.000000</td>\n",
              "      <td>768.000000</td>\n",
              "    </tr>\n",
              "    <tr>\n",
              "      <th>mean</th>\n",
              "      <td>3.845052</td>\n",
              "      <td>120.894531</td>\n",
              "      <td>69.105469</td>\n",
              "      <td>20.536458</td>\n",
              "      <td>79.799479</td>\n",
              "      <td>31.992578</td>\n",
              "      <td>0.471876</td>\n",
              "      <td>33.240885</td>\n",
              "      <td>0.348958</td>\n",
              "    </tr>\n",
              "    <tr>\n",
              "      <th>std</th>\n",
              "      <td>3.369578</td>\n",
              "      <td>31.972618</td>\n",
              "      <td>19.355807</td>\n",
              "      <td>15.952218</td>\n",
              "      <td>115.244002</td>\n",
              "      <td>7.884160</td>\n",
              "      <td>0.331329</td>\n",
              "      <td>11.760232</td>\n",
              "      <td>0.476951</td>\n",
              "    </tr>\n",
              "    <tr>\n",
              "      <th>min</th>\n",
              "      <td>0.000000</td>\n",
              "      <td>0.000000</td>\n",
              "      <td>0.000000</td>\n",
              "      <td>0.000000</td>\n",
              "      <td>0.000000</td>\n",
              "      <td>0.000000</td>\n",
              "      <td>0.078000</td>\n",
              "      <td>21.000000</td>\n",
              "      <td>0.000000</td>\n",
              "    </tr>\n",
              "    <tr>\n",
              "      <th>25%</th>\n",
              "      <td>1.000000</td>\n",
              "      <td>99.000000</td>\n",
              "      <td>62.000000</td>\n",
              "      <td>0.000000</td>\n",
              "      <td>0.000000</td>\n",
              "      <td>27.300000</td>\n",
              "      <td>0.243750</td>\n",
              "      <td>24.000000</td>\n",
              "      <td>0.000000</td>\n",
              "    </tr>\n",
              "    <tr>\n",
              "      <th>50%</th>\n",
              "      <td>3.000000</td>\n",
              "      <td>117.000000</td>\n",
              "      <td>72.000000</td>\n",
              "      <td>23.000000</td>\n",
              "      <td>30.500000</td>\n",
              "      <td>32.000000</td>\n",
              "      <td>0.372500</td>\n",
              "      <td>29.000000</td>\n",
              "      <td>0.000000</td>\n",
              "    </tr>\n",
              "    <tr>\n",
              "      <th>75%</th>\n",
              "      <td>6.000000</td>\n",
              "      <td>140.250000</td>\n",
              "      <td>80.000000</td>\n",
              "      <td>32.000000</td>\n",
              "      <td>127.250000</td>\n",
              "      <td>36.600000</td>\n",
              "      <td>0.626250</td>\n",
              "      <td>41.000000</td>\n",
              "      <td>1.000000</td>\n",
              "    </tr>\n",
              "    <tr>\n",
              "      <th>max</th>\n",
              "      <td>17.000000</td>\n",
              "      <td>199.000000</td>\n",
              "      <td>122.000000</td>\n",
              "      <td>99.000000</td>\n",
              "      <td>846.000000</td>\n",
              "      <td>67.100000</td>\n",
              "      <td>2.420000</td>\n",
              "      <td>81.000000</td>\n",
              "      <td>1.000000</td>\n",
              "    </tr>\n",
              "  </tbody>\n",
              "</table>\n",
              "</div>"
            ],
            "text/plain": [
              "       Pregnancies     Glucose  ...         Age     Outcome\n",
              "count   768.000000  768.000000  ...  768.000000  768.000000\n",
              "mean      3.845052  120.894531  ...   33.240885    0.348958\n",
              "std       3.369578   31.972618  ...   11.760232    0.476951\n",
              "min       0.000000    0.000000  ...   21.000000    0.000000\n",
              "25%       1.000000   99.000000  ...   24.000000    0.000000\n",
              "50%       3.000000  117.000000  ...   29.000000    0.000000\n",
              "75%       6.000000  140.250000  ...   41.000000    1.000000\n",
              "max      17.000000  199.000000  ...   81.000000    1.000000\n",
              "\n",
              "[8 rows x 9 columns]"
            ]
          },
          "metadata": {
            "tags": []
          },
          "execution_count": 101
        }
      ]
    },
    {
      "cell_type": "code",
      "metadata": {
        "colab": {
          "base_uri": "https://localhost:8080/"
        },
        "id": "sf-qTiYIoT62",
        "outputId": "b90c2e8d-8c91-4f86-cc56-f793d63e8bd4"
      },
      "source": [
        "data.info()"
      ],
      "execution_count": null,
      "outputs": [
        {
          "output_type": "stream",
          "text": [
            "<class 'pandas.core.frame.DataFrame'>\n",
            "RangeIndex: 768 entries, 0 to 767\n",
            "Data columns (total 9 columns):\n",
            " #   Column                    Non-Null Count  Dtype  \n",
            "---  ------                    --------------  -----  \n",
            " 0   Pregnancies               768 non-null    int64  \n",
            " 1   Glucose                   768 non-null    int64  \n",
            " 2   BloodPressure             768 non-null    int64  \n",
            " 3   SkinThickness             768 non-null    int64  \n",
            " 4   Insulin                   768 non-null    int64  \n",
            " 5   BMI                       768 non-null    float64\n",
            " 6   DiabetesPedigreeFunction  768 non-null    float64\n",
            " 7   Age                       768 non-null    int64  \n",
            " 8   Outcome                   768 non-null    int64  \n",
            "dtypes: float64(2), int64(7)\n",
            "memory usage: 54.1 KB\n"
          ],
          "name": "stdout"
        }
      ]
    },
    {
      "cell_type": "code",
      "metadata": {
        "colab": {
          "base_uri": "https://localhost:8080/",
          "height": 403
        },
        "id": "vz7Jiec8B9gw",
        "outputId": "90583415-f043-43e2-891f-150c6b18f1ff"
      },
      "source": [
        "featuresName = ['Pregnancies', 'Glucose', 'BloodPressure', 'SkinThickness', 'Insulin', 'BMI', 'DiabetesPedigreeFunction', 'Age']\n",
        "ROWS, COLS = 2, 4\n",
        "fig, ax = plt.subplots(ROWS, COLS, figsize=(18,8) )\n",
        "row, col = 0, 0\n",
        "for i, featureName in enumerate(featuresName):\n",
        "    if col == COLS - 1:\n",
        "        row += 1\n",
        "    col = i % COLS\n",
        "    \n",
        "    data[featureName].hist(bins=35, color='green', alpha=0.5, ax=ax[row, col]).set_title(featureName)"
      ],
      "execution_count": null,
      "outputs": [
        {
          "output_type": "display_data",
          "data": {
            "image/png": "[encoded data removed]",
            "text/plain": [
              "<Figure size 1296x576 with 8 Axes>"
            ]
          },
          "metadata": {
            "tags": [],
            "needs_background": "light"
          }
        }
      ]
    },
    {
      "cell_type": "code",
      "metadata": {
        "colab": {
          "base_uri": "https://localhost:8080/",
          "height": 297
        },
        "id": "BgdrtoJklclt",
        "outputId": "ad256217-9f3f-40db-abf9-02790e6be170"
      },
      "source": [
        "import matplotlib.pyplot as plt\n",
        "import numpy as np\n",
        "s0 = np.sum(data[\"Outcome\"] == 0)\n",
        "s1 = np.sum(data[\"Outcome\"] == 1)\n",
        "# plt.pie([s0, s1], labels = ['No Diabetes', 'Diabetes'], autopct='%1.2f%%')\n",
        "# plt.show()\n",
        " \n",
        "fig1, ax1 = plt.subplots()\n",
        "ax1.pie([s0, s1], labels=['No Diabetes', 'Diabetes'], autopct='%1.0f%%', startangle=90, colors = ['#99ff99','#ff9999'])\n",
        "# Equal aspect ratio ensures that pie is drawn as a circle\n",
        "ax1.axis('equal')  \n",
        "plt.tight_layout()\n",
        "plt.show()"
      ],
      "execution_count": null,
      "outputs": [
        {
          "output_type": "display_data",
          "data": {
            "image/png": "[encoded data removed]",
            "text/plain": [
              "<Figure size 432x288 with 1 Axes>"
            ]
          },
          "metadata": {
            "tags": []
          }
        }
      ]
    },
    {
      "cell_type": "code",
      "metadata": {
        "colab": {
          "base_uri": "https://localhost:8080/"
        },
        "id": "rj-klW1M4hNr",
        "outputId": "3baabe1f-430b-483e-e5d5-06ddfde68583"
      },
      "source": [
        "for col in cols:\n",
        "    data[col].replace(0,np.NaN,inplace=True)\n",
        "data.isnull().sum()\n"
      ],
      "execution_count": null,
      "outputs": [
        {
          "output_type": "execute_result",
          "data": {
            "text/plain": [
              "Pregnancies                   0\n",
              "Glucose                       5\n",
              "BloodPressure                35\n",
              "SkinThickness               227\n",
              "Insulin                     374\n",
              "BMI                          11\n",
              "DiabetesPedigreeFunction      0\n",
              "Age                           0\n",
              "Outcome                       0\n",
              "dtype: int64"
            ]
          },
          "metadata": {
            "tags": []
          },
          "execution_count": 105
        }
      ]
    },
    {
      "cell_type": "code",
      "metadata": {
        "id": "JoXopfA54oko"
      },
      "source": [
        "for col in data.columns:\n",
        "    data.loc[(data[\"Outcome\"]==0) & (data[col].isnull()),col] = data[data[\"Outcome\"]==0][col].median()\n",
        "    data.loc[(data[\"Outcome\"]==1) & (data[col].isnull()),col] = data[data[\"Outcome\"]==1][col].median()"
      ],
      "execution_count": null,
      "outputs": []
    },
    {
      "cell_type": "code",
      "metadata": {
        "id": "j92TNFQRtRQu",
        "colab": {
          "base_uri": "https://localhost:8080/"
        },
        "outputId": "6ac2100f-e0db-44ae-fcbf-17f3fdd6a356"
      },
      "source": [
        "data.isnull().sum()"
      ],
      "execution_count": null,
      "outputs": [
        {
          "output_type": "execute_result",
          "data": {
            "text/plain": [
              "Pregnancies                 0\n",
              "Glucose                     0\n",
              "BloodPressure               0\n",
              "SkinThickness               0\n",
              "Insulin                     0\n",
              "BMI                         0\n",
              "DiabetesPedigreeFunction    0\n",
              "Age                         0\n",
              "Outcome                     0\n",
              "dtype: int64"
            ]
          },
          "metadata": {
            "tags": []
          },
          "execution_count": 107
        }
      ]
    },
    {
      "cell_type": "code",
      "metadata": {
        "colab": {
          "base_uri": "https://localhost:8080/",
          "height": 403
        },
        "id": "nkxK-guqCHwA",
        "outputId": "1cafd80e-f7aa-48b9-cb89-9ce3931ec0c4"
      },
      "source": [
        "featuresName = ['Pregnancies', 'Glucose', 'BloodPressure', 'SkinThickness', 'Insulin', 'BMI', 'DiabetesPedigreeFunction', 'Age']\n",
        "ROWS, COLS = 2, 4\n",
        "fig, ax = plt.subplots(ROWS, COLS, figsize=(18,8) )\n",
        "row, col = 0, 0\n",
        "for i, featureName in enumerate(featuresName):\n",
        "    if col == COLS - 1:\n",
        "        row += 1\n",
        "    col = i % COLS\n",
        "    \n",
        "    data[featureName].hist(bins=35, color='green', alpha=0.5, ax=ax[row, col]).set_title(featureName)"
      ],
      "execution_count": null,
      "outputs": [
        {
          "output_type": "display_data",
          "data": {
            "image/png": "[encoded data removed]",
            "text/plain": [
              "<Figure size 1296x576 with 8 Axes>"
            ]
          },
          "metadata": {
            "tags": [],
            "needs_background": "light"
          }
        }
      ]
    },
    {
      "cell_type": "code",
      "metadata": {
        "colab": {
          "base_uri": "https://localhost:8080/",
          "height": 825
        },
        "id": "c8TZhaAb8XWH",
        "outputId": "82b914be-c677-414d-fc35-dca58187b2cc"
      },
      "source": [
        "import seaborn as sns\n",
        "fig, ax = plt.subplots(figsize=(12,12))\n",
        "sns.heatmap(data.corr(),annot=True,ax=ax)\n",
        "plt.show()"
      ],
      "execution_count": null,
      "outputs": [
        {
          "output_type": "display_data",
          "data": {
            "image/png": "[encoded data removed]",
            "text/plain": [
              "<Figure size 864x864 with 2 Axes>"
            ]
          },
          "metadata": {
            "tags": [],
            "needs_background": "light"
          }
        }
      ]
    },
    {
      "cell_type": "code",
      "metadata": {
        "id": "Vg14etlBGl4y"
      },
      "source": [
        "data_feature_eng=data \n",
        "data_feature_eng['glu/bmi']=data_feature_eng['Glucose']/data_feature_eng['BMI']                                                   \n",
        "data_feature_eng['ins/bmi']=data_feature_eng['Insulin']/data_feature_eng['BMI']\n",
        "data_feature_eng['glu/ins']=data_feature_eng['Glucose']/data_feature_eng['Insulin']\n",
        "data_feature_eng['bp/glu']=data_feature_eng['BloodPressure']/data_feature_eng['Glucose']\n",
        "data_feature_eng['skn/bmi']=data_feature_eng['SkinThickness']/data_feature_eng['BMI']\n",
        "data_feature_eng['bp/bmi']=data_feature_eng['BloodPressure']/data_feature_eng['BMI']\n",
        "data_feature_eng['preg/agr']=data_feature_eng['Pregnancies']/data_feature_eng['Age']\n",
        "data_feature_eng['Skin_normal_abmormal'] = data_feature_eng['SkinThickness'].apply(lambda x: 1 if x <= 20.0 else 0) # normal value if skin thickness\n",
        "data_feature_eng['bp/ins']=data_feature_eng['BloodPressure']/data_feature_eng['Insulin']"
      ],
      "execution_count": null,
      "outputs": []
    },
    {
      "cell_type": "code",
      "metadata": {
        "colab": {
          "base_uri": "https://localhost:8080/",
          "height": 439
        },
        "id": "M80xaHtorrcY",
        "outputId": "bf299d4c-f068-48d3-df80-d10fbced4692"
      },
      "source": [
        "data_feature_eng"
      ],
      "execution_count": null,
      "outputs": [
        {
          "output_type": "execute_result",
          "data": {
            "text/html": [
              "<div>\n",
              "<style scoped>\n",
              "    .dataframe tbody tr th:only-of-type {\n",
              "        vertical-align: middle;\n",
              "    }\n",
              "\n",
              "    .dataframe tbody tr th {\n",
              "        vertical-align: top;\n",
              "    }\n",
              "\n",
              "    .dataframe thead th {\n",
              "        text-align: right;\n",
              "    }\n",
              "</style>\n",
              "<table border=\"1\" class=\"dataframe\">\n",
              "  <thead>\n",
              "    <tr style=\"text-align: right;\">\n",
              "      <th></th>\n",
              "      <th>Pregnancies</th>\n",
              "      <th>Glucose</th>\n",
              "      <th>BloodPressure</th>\n",
              "      <th>SkinThickness</th>\n",
              "      <th>Insulin</th>\n",
              "      <th>BMI</th>\n",
              "      <th>DiabetesPedigreeFunction</th>\n",
              "      <th>Age</th>\n",
              "      <th>Outcome</th>\n",
              "      <th>glu/bmi</th>\n",
              "      <th>ins/bmi</th>\n",
              "      <th>glu/ins</th>\n",
              "      <th>bp/glu</th>\n",
              "      <th>skn/bmi</th>\n",
              "      <th>bp/bmi</th>\n",
              "      <th>preg/agr</th>\n",
              "      <th>Skin_normal_abmormal</th>\n",
              "      <th>bp/ins</th>\n",
              "    </tr>\n",
              "  </thead>\n",
              "  <tbody>\n",
              "    <tr>\n",
              "      <th>0</th>\n",
              "      <td>6</td>\n",
              "      <td>148.0</td>\n",
              "      <td>72.0</td>\n",
              "      <td>35.0</td>\n",
              "      <td>169.5</td>\n",
              "      <td>33.6</td>\n",
              "      <td>0.627</td>\n",
              "      <td>50</td>\n",
              "      <td>1</td>\n",
              "      <td>4.404762</td>\n",
              "      <td>5.044643</td>\n",
              "      <td>0.873156</td>\n",
              "      <td>0.486486</td>\n",
              "      <td>1.041667</td>\n",
              "      <td>2.142857</td>\n",
              "      <td>0.120000</td>\n",
              "      <td>0</td>\n",
              "      <td>0.424779</td>\n",
              "    </tr>\n",
              "    <tr>\n",
              "      <th>1</th>\n",
              "      <td>1</td>\n",
              "      <td>85.0</td>\n",
              "      <td>66.0</td>\n",
              "      <td>29.0</td>\n",
              "      <td>102.5</td>\n",
              "      <td>26.6</td>\n",
              "      <td>0.351</td>\n",
              "      <td>31</td>\n",
              "      <td>0</td>\n",
              "      <td>3.195489</td>\n",
              "      <td>3.853383</td>\n",
              "      <td>0.829268</td>\n",
              "      <td>0.776471</td>\n",
              "      <td>1.090226</td>\n",
              "      <td>2.481203</td>\n",
              "      <td>0.032258</td>\n",
              "      <td>0</td>\n",
              "      <td>0.643902</td>\n",
              "    </tr>\n",
              "    <tr>\n",
              "      <th>2</th>\n",
              "      <td>8</td>\n",
              "      <td>183.0</td>\n",
              "      <td>64.0</td>\n",
              "      <td>32.0</td>\n",
              "      <td>169.5</td>\n",
              "      <td>23.3</td>\n",
              "      <td>0.672</td>\n",
              "      <td>32</td>\n",
              "      <td>1</td>\n",
              "      <td>7.854077</td>\n",
              "      <td>7.274678</td>\n",
              "      <td>1.079646</td>\n",
              "      <td>0.349727</td>\n",
              "      <td>1.373391</td>\n",
              "      <td>2.746781</td>\n",
              "      <td>0.250000</td>\n",
              "      <td>0</td>\n",
              "      <td>0.377581</td>\n",
              "    </tr>\n",
              "    <tr>\n",
              "      <th>3</th>\n",
              "      <td>1</td>\n",
              "      <td>89.0</td>\n",
              "      <td>66.0</td>\n",
              "      <td>23.0</td>\n",
              "      <td>94.0</td>\n",
              "      <td>28.1</td>\n",
              "      <td>0.167</td>\n",
              "      <td>21</td>\n",
              "      <td>0</td>\n",
              "      <td>3.167260</td>\n",
              "      <td>3.345196</td>\n",
              "      <td>0.946809</td>\n",
              "      <td>0.741573</td>\n",
              "      <td>0.818505</td>\n",
              "      <td>2.348754</td>\n",
              "      <td>0.047619</td>\n",
              "      <td>0</td>\n",
              "      <td>0.702128</td>\n",
              "    </tr>\n",
              "    <tr>\n",
              "      <th>4</th>\n",
              "      <td>0</td>\n",
              "      <td>137.0</td>\n",
              "      <td>40.0</td>\n",
              "      <td>35.0</td>\n",
              "      <td>168.0</td>\n",
              "      <td>43.1</td>\n",
              "      <td>2.288</td>\n",
              "      <td>33</td>\n",
              "      <td>1</td>\n",
              "      <td>3.178654</td>\n",
              "      <td>3.897912</td>\n",
              "      <td>0.815476</td>\n",
              "      <td>0.291971</td>\n",
              "      <td>0.812065</td>\n",
              "      <td>0.928074</td>\n",
              "      <td>0.000000</td>\n",
              "      <td>0</td>\n",
              "      <td>0.238095</td>\n",
              "    </tr>\n",
              "    <tr>\n",
              "      <th>...</th>\n",
              "      <td>...</td>\n",
              "      <td>...</td>\n",
              "      <td>...</td>\n",
              "      <td>...</td>\n",
              "      <td>...</td>\n",
              "      <td>...</td>\n",
              "      <td>...</td>\n",
              "      <td>...</td>\n",
              "      <td>...</td>\n",
              "      <td>...</td>\n",
              "      <td>...</td>\n",
              "      <td>...</td>\n",
              "      <td>...</td>\n",
              "      <td>...</td>\n",
              "      <td>...</td>\n",
              "      <td>...</td>\n",
              "      <td>...</td>\n",
              "      <td>...</td>\n",
              "    </tr>\n",
              "    <tr>\n",
              "      <th>763</th>\n",
              "      <td>10</td>\n",
              "      <td>101.0</td>\n",
              "      <td>76.0</td>\n",
              "      <td>48.0</td>\n",
              "      <td>180.0</td>\n",
              "      <td>32.9</td>\n",
              "      <td>0.171</td>\n",
              "      <td>63</td>\n",
              "      <td>0</td>\n",
              "      <td>3.069909</td>\n",
              "      <td>5.471125</td>\n",
              "      <td>0.561111</td>\n",
              "      <td>0.752475</td>\n",
              "      <td>1.458967</td>\n",
              "      <td>2.310030</td>\n",
              "      <td>0.158730</td>\n",
              "      <td>0</td>\n",
              "      <td>0.422222</td>\n",
              "    </tr>\n",
              "    <tr>\n",
              "      <th>764</th>\n",
              "      <td>2</td>\n",
              "      <td>122.0</td>\n",
              "      <td>70.0</td>\n",
              "      <td>27.0</td>\n",
              "      <td>102.5</td>\n",
              "      <td>36.8</td>\n",
              "      <td>0.340</td>\n",
              "      <td>27</td>\n",
              "      <td>0</td>\n",
              "      <td>3.315217</td>\n",
              "      <td>2.785326</td>\n",
              "      <td>1.190244</td>\n",
              "      <td>0.573770</td>\n",
              "      <td>0.733696</td>\n",
              "      <td>1.902174</td>\n",
              "      <td>0.074074</td>\n",
              "      <td>0</td>\n",
              "      <td>0.682927</td>\n",
              "    </tr>\n",
              "    <tr>\n",
              "      <th>765</th>\n",
              "      <td>5</td>\n",
              "      <td>121.0</td>\n",
              "      <td>72.0</td>\n",
              "      <td>23.0</td>\n",
              "      <td>112.0</td>\n",
              "      <td>26.2</td>\n",
              "      <td>0.245</td>\n",
              "      <td>30</td>\n",
              "      <td>0</td>\n",
              "      <td>4.618321</td>\n",
              "      <td>4.274809</td>\n",
              "      <td>1.080357</td>\n",
              "      <td>0.595041</td>\n",
              "      <td>0.877863</td>\n",
              "      <td>2.748092</td>\n",
              "      <td>0.166667</td>\n",
              "      <td>0</td>\n",
              "      <td>0.642857</td>\n",
              "    </tr>\n",
              "    <tr>\n",
              "      <th>766</th>\n",
              "      <td>1</td>\n",
              "      <td>126.0</td>\n",
              "      <td>60.0</td>\n",
              "      <td>32.0</td>\n",
              "      <td>169.5</td>\n",
              "      <td>30.1</td>\n",
              "      <td>0.349</td>\n",
              "      <td>47</td>\n",
              "      <td>1</td>\n",
              "      <td>4.186047</td>\n",
              "      <td>5.631229</td>\n",
              "      <td>0.743363</td>\n",
              "      <td>0.476190</td>\n",
              "      <td>1.063123</td>\n",
              "      <td>1.993355</td>\n",
              "      <td>0.021277</td>\n",
              "      <td>0</td>\n",
              "      <td>0.353982</td>\n",
              "    </tr>\n",
              "    <tr>\n",
              "      <th>767</th>\n",
              "      <td>1</td>\n",
              "      <td>93.0</td>\n",
              "      <td>70.0</td>\n",
              "      <td>31.0</td>\n",
              "      <td>102.5</td>\n",
              "      <td>30.4</td>\n",
              "      <td>0.315</td>\n",
              "      <td>23</td>\n",
              "      <td>0</td>\n",
              "      <td>3.059211</td>\n",
              "      <td>3.371711</td>\n",
              "      <td>0.907317</td>\n",
              "      <td>0.752688</td>\n",
              "      <td>1.019737</td>\n",
              "      <td>2.302632</td>\n",
              "      <td>0.043478</td>\n",
              "      <td>0</td>\n",
              "      <td>0.682927</td>\n",
              "    </tr>\n",
              "  </tbody>\n",
              "</table>\n",
              "<p>768 rows × 18 columns</p>\n",
              "</div>"
            ],
            "text/plain": [
              "     Pregnancies  Glucose  ...  Skin_normal_abmormal    bp/ins\n",
              "0              6    148.0  ...                     0  0.424779\n",
              "1              1     85.0  ...                     0  0.643902\n",
              "2              8    183.0  ...                     0  0.377581\n",
              "3              1     89.0  ...                     0  0.702128\n",
              "4              0    137.0  ...                     0  0.238095\n",
              "..           ...      ...  ...                   ...       ...\n",
              "763           10    101.0  ...                     0  0.422222\n",
              "764            2    122.0  ...                     0  0.682927\n",
              "765            5    121.0  ...                     0  0.642857\n",
              "766            1    126.0  ...                     0  0.353982\n",
              "767            1     93.0  ...                     0  0.682927\n",
              "\n",
              "[768 rows x 18 columns]"
            ]
          },
          "metadata": {
            "tags": []
          },
          "execution_count": 111
        }
      ]
    },
    {
      "cell_type": "code",
      "metadata": {
        "id": "d_40LXBmGuQv"
      },
      "source": [
        "#data without feature eng \n",
        "x = data[['Pregnancies','Glucose','BloodPressure','SkinThickness','Insulin','BMI','DiabetesPedigreeFunction','Age']]\n",
        "y = data['Outcome']\n"
      ],
      "execution_count": null,
      "outputs": []
    },
    {
      "cell_type": "code",
      "metadata": {
        "id": "JqNTHd_LGvTl"
      },
      "source": [
        "#data with feature eng \n",
        "xf = data_feature_eng [['Pregnancies','Glucose','BloodPressure','SkinThickness','Insulin','BMI','DiabetesPedigreeFunction','Age','glu/bmi','ins/bmi','glu/ins','bp/glu','skn/bmi','bp/bmi','preg/agr','Skin_normal_abmormal','bp/ins']]\n",
        "yf = data_feature_eng['Outcome']"
      ],
      "execution_count": null,
      "outputs": []
    },
    {
      "cell_type": "code",
      "metadata": {
        "id": "TW4z3mhzGya-"
      },
      "source": [
        "#split data without feature eng \n",
        "x_train, x_test, y_train, y_test = train_test_split(x, y, test_size=0.2, random_state=42)"
      ],
      "execution_count": null,
      "outputs": []
    },
    {
      "cell_type": "code",
      "metadata": {
        "id": "gt-wlbWnG0YB"
      },
      "source": [
        "#split data with feature eng\n",
        "x_trainf, x_testf, y_trainf, y_testf = train_test_split(xf, yf, test_size=0.2, random_state=42)"
      ],
      "execution_count": null,
      "outputs": []
    },
    {
      "cell_type": "code",
      "metadata": {
        "colab": {
          "base_uri": "https://localhost:8080/"
        },
        "id": "wo9nLl_3SIzO",
        "outputId": "f663d89f-12fa-414c-c389-b71ce88d9dad"
      },
      "source": [
        "sum(y_test)"
      ],
      "execution_count": null,
      "outputs": [
        {
          "output_type": "execute_result",
          "data": {
            "text/plain": [
              "55"
            ]
          },
          "metadata": {
            "tags": []
          },
          "execution_count": 116
        }
      ]
    },
    {
      "cell_type": "code",
      "metadata": {
        "colab": {
          "base_uri": "https://localhost:8080/"
        },
        "id": "HBvhJFw6uZf3",
        "outputId": "09bf1628-0af5-4e1b-a28f-d3ac2c64885e"
      },
      "source": [
        "print('Data without feature eng :')\n",
        "print(x_train.shape, x_test.shape, y_train.shape, y_test.shape)\n",
        "print(x_trainf.shape, x_testf.shape, y_trainf.shape, y_testf.shape)"
      ],
      "execution_count": null,
      "outputs": [
        {
          "output_type": "stream",
          "text": [
            "Data without feature eng :\n",
            "(614, 8) (154, 8) (614,) (154,)\n",
            "(614, 17) (154, 17) (614,) (154,)\n"
          ],
          "name": "stdout"
        }
      ]
    },
    {
      "cell_type": "code",
      "metadata": {
        "id": "KcMdvzxBRS9V"
      },
      "source": [
        "from sklearn.preprocessing import StandardScaler\n",
        "\n",
        "Sc_X = StandardScaler()\n",
        "X_train = Sc_X.fit_transform(x_train)\n",
        "X_test = Sc_X.transform(x_test)"
      ],
      "execution_count": null,
      "outputs": []
    },
    {
      "cell_type": "code",
      "metadata": {
        "id": "tIPzIzzhG19M"
      },
      "source": [
        "Sc_Xf = StandardScaler()\n",
        "x_trainf = Sc_Xf.fit_transform(x_trainf)\n",
        "x_testf = Sc_Xf.transform(x_testf)"
      ],
      "execution_count": null,
      "outputs": []
    },
    {
      "cell_type": "code",
      "metadata": {
        "colab": {
          "base_uri": "https://localhost:8080/"
        },
        "id": "6n7_j7rlmFfZ",
        "outputId": "a7ef5482-5594-4f1d-b5a7-08796a107f76"
      },
      "source": [
        "x_trainf"
      ],
      "execution_count": null,
      "outputs": [
        {
          "output_type": "execute_result",
          "data": {
            "text/plain": [
              "array([[-0.52639686, -1.25638742, -0.18390222, ..., -0.13494485,\n",
              "        -0.46458754,  0.02377896],\n",
              "       [ 1.58804586, -0.32656338,  0.80803889, ...,  0.926102  ,\n",
              "        -0.46458754, -0.4082721 ],\n",
              "       [-0.82846011,  0.57005267, -2.16778444, ..., -0.75813376,\n",
              "         2.15244687, -0.25545273],\n",
              "       ...,\n",
              "       [ 1.8901091 , -0.69185139,  1.13868592, ...,  1.96706991,\n",
              "        -0.46458754, -0.3570753 ],\n",
              "       [-1.13052335,  0.63646867,  0.1880757 , ..., -1.32713233,\n",
              "        -0.46458754, -0.5042661 ],\n",
              "       [-1.13052335,  0.10514064,  1.96530351, ..., -1.32713233,\n",
              "        -0.46458754,  0.57408215]])"
            ]
          },
          "metadata": {
            "tags": []
          },
          "execution_count": 154
        }
      ]
    },
    {
      "cell_type": "code",
      "metadata": {
        "colab": {
          "base_uri": "https://localhost:8080/"
        },
        "id": "EwX8ojvBu9Px",
        "outputId": "de4ce2af-b02d-479e-d884-fb4fbf40c6e3"
      },
      "source": [
        "print('Data with feature eng :')\n",
        "print(x_trainf.shape, x_testf.shape, y_trainf.shape, y_testf.shape)"
      ],
      "execution_count": null,
      "outputs": [
        {
          "output_type": "stream",
          "text": [
            "Data with feature eng :\n",
            "(614, 17) (154, 17) (614,) (154,)\n"
          ],
          "name": "stdout"
        }
      ]
    },
    {
      "cell_type": "markdown",
      "metadata": {
        "id": "LN4T9jaH4WZb"
      },
      "source": [
        "# **logistic regression**"
      ]
    },
    {
      "cell_type": "markdown",
      "metadata": {
        "id": "e7-u-8-wIBZA"
      },
      "source": [
        "logistic regression sans features  engineering\n",
        "\n",
        "> Indented block\n",
        "\n"
      ]
    },
    {
      "cell_type": "code",
      "metadata": {
        "id": "SU7iUtBkG1mJ"
      },
      "source": [
        "modele_regLog = LogisticRegression(solver = 'liblinear', multi_class = 'auto')"
      ],
      "execution_count": null,
      "outputs": []
    },
    {
      "cell_type": "code",
      "metadata": {
        "id": "S13oYnNdG3zD"
      },
      "source": [
        "#train model using originale data\n",
        "modele_regLog.fit(x_train,y_train)\n",
        "y_pred = modele_regLog.predict(x_test)"
      ],
      "execution_count": null,
      "outputs": []
    },
    {
      "cell_type": "markdown",
      "metadata": {
        "id": "ioLEekLtaomS"
      },
      "source": [
        ""
      ]
    },
    {
      "cell_type": "code",
      "metadata": {
        "id": "kGOHCNPCIuSV",
        "colab": {
          "base_uri": "https://localhost:8080/",
          "height": 296
        },
        "outputId": "0682e796-ffc7-4852-af2c-ef6f66b8a58c"
      },
      "source": [
        "from sklearn.metrics import plot_confusion_matrix, roc_curve, roc_auc_score\n",
        "plot_confusion_matrix(modele_regLog, x_test, y_test,  cmap=plt.cm.Blues,values_format='d' ,normalize=None ,display_labels=['Not sick', 'Sick'])"
      ],
      "execution_count": null,
      "outputs": [
        {
          "output_type": "execute_result",
          "data": {
            "text/plain": [
              "<sklearn.metrics._plot.confusion_matrix.ConfusionMatrixDisplay at 0x7f539590c550>"
            ]
          },
          "metadata": {
            "tags": []
          },
          "execution_count": 123
        },
        {
          "output_type": "display_data",
          "data": {
            "image/png": "[encoded data removed]",
            "text/plain": [
              "<Figure size 432x288 with 2 Axes>"
            ]
          },
          "metadata": {
            "tags": [],
            "needs_background": "light"
          }
        }
      ]
    },
    {
      "cell_type": "code",
      "metadata": {
        "id": "B04_9o6eIzR5",
        "colab": {
          "base_uri": "https://localhost:8080/"
        },
        "outputId": "9094c4a7-0044-4302-aa5a-fe1c2fa3c1db"
      },
      "source": [
        "from sklearn.metrics import *\n",
        "print(\"accuracy ==> {0:.0%}\".format(accuracy_score(y_test, y_pred)))\n",
        "print(\"precision ==> {0:.0%}\".format(precision_score(y_test, y_pred)))\n",
        "print(\"recall ==> {:0.2f}\".format(recall_score(y_test, y_pred)))\n",
        "print(\"f1_score ==> {:0.2f}\".format(f1_score(y_test, y_pred)))"
      ],
      "execution_count": null,
      "outputs": [
        {
          "output_type": "stream",
          "text": [
            "accuracy ==> 78%\n",
            "precision ==> 71%\n",
            "recall ==> 0.64\n",
            "f1_score ==> 0.67\n"
          ],
          "name": "stdout"
        }
      ]
    },
    {
      "cell_type": "markdown",
      "metadata": {
        "id": "DXzTQh8rI9qi"
      },
      "source": [
        "logistic regression avec features engineering"
      ]
    },
    {
      "cell_type": "code",
      "metadata": {
        "id": "zPPEmY3vG6Kt"
      },
      "source": [
        "#train model using a data after feature eng\n",
        "modele_regLog.fit(x_trainf,y_trainf)\n",
        "y_predf = modele_regLog.predict(x_testf)"
      ],
      "execution_count": null,
      "outputs": []
    },
    {
      "cell_type": "code",
      "metadata": {
        "id": "W6l9SUwiI6YG",
        "colab": {
          "base_uri": "https://localhost:8080/",
          "height": 300
        },
        "outputId": "9f6a69be-71f2-4417-f16a-096dc65cdd5b"
      },
      "source": [
        "from sklearn.metrics import plot_confusion_matrix, roc_curve, roc_auc_score\n",
        "plot_confusion_matrix(modele_regLog, x_testf, y_testf,  cmap=plt.cm.Blues,values_format='d' ,normalize=None ,display_labels=['No', 'Yes'])"
      ],
      "execution_count": null,
      "outputs": [
        {
          "output_type": "execute_result",
          "data": {
            "text/plain": [
              "<sklearn.metrics._plot.confusion_matrix.ConfusionMatrixDisplay at 0x7f53a2cb0a90>"
            ]
          },
          "metadata": {
            "tags": []
          },
          "execution_count": 126
        },
        {
          "output_type": "display_data",
          "data": {
            "image/png": "[encoded data removed]",
            "text/plain": [
              "<Figure size 432x288 with 2 Axes>"
            ]
          },
          "metadata": {
            "tags": [],
            "needs_background": "light"
          }
        }
      ]
    },
    {
      "cell_type": "code",
      "metadata": {
        "id": "iQRmZYIZI713",
        "colab": {
          "base_uri": "https://localhost:8080/"
        },
        "outputId": "47247f30-76c1-4675-ca72-9d1987687045"
      },
      "source": [
        "from sklearn.metrics import *\n",
        "print(\"accuracy ==> {0:.0%}\".format(accuracy_score(y_testf, y_predf)))\n",
        "print(\"precision ==> {0:.0%}\".format(precision_score(y_testf, y_predf)))\n",
        "print(\"recall ==> {:0.2f}\".format(recall_score(y_testf, y_predf)))\n",
        "print(\"f1_score ==> {:0.2f}\".format(f1_score(y_testf, y_predf)))"
      ],
      "execution_count": null,
      "outputs": [
        {
          "output_type": "stream",
          "text": [
            "accuracy ==> 77%\n",
            "precision ==> 67%\n",
            "recall ==> 0.71\n",
            "f1_score ==> 0.69\n"
          ],
          "name": "stdout"
        }
      ]
    },
    {
      "cell_type": "markdown",
      "metadata": {
        "id": "3_LS6bvmNlMv"
      },
      "source": [
        "grid search sans features engineering"
      ]
    },
    {
      "cell_type": "code",
      "metadata": {
        "id": "-vCxxDJkNpr_"
      },
      "source": [
        "from sklearn.model_selection import GridSearchCV\n",
        "# log\n",
        "log_params = {'penalty':['l1', 'l2'], \n",
        "              'C': [0.0001, 0.001, 0.01, 0.1, 1, 10, 100, 100], \n",
        "              'solver':['liblinear', 'saga']}\n",
        "log_model = GridSearchCV(LogisticRegression(), log_params, cv=5)\n",
        "log_model.fit(x_train, y_train)\n",
        "y_predf = log_model.predict(x_test)\n"
      ],
      "execution_count": null,
      "outputs": []
    },
    {
      "cell_type": "code",
      "metadata": {
        "colab": {
          "base_uri": "https://localhost:8080/",
          "height": 296
        },
        "id": "rCtAz2k5OCUy",
        "outputId": "973b9385-59e1-431f-927e-4e599a1ca1ce"
      },
      "source": [
        "from sklearn.metrics import plot_confusion_matrix\n",
        "plot_confusion_matrix(log_model, x_test, y_test,  cmap=plt.cm.Blues,values_format='d' ,normalize=None ,display_labels=['No', 'Yes'])"
      ],
      "execution_count": null,
      "outputs": [
        {
          "output_type": "execute_result",
          "data": {
            "text/plain": [
              "<sklearn.metrics._plot.confusion_matrix.ConfusionMatrixDisplay at 0x7f53996e3550>"
            ]
          },
          "metadata": {
            "tags": []
          },
          "execution_count": 129
        },
        {
          "output_type": "display_data",
          "data": {
            "image/png": "[encoded data removed]",
            "text/plain": [
              "<Figure size 432x288 with 2 Axes>"
            ]
          },
          "metadata": {
            "tags": [],
            "needs_background": "light"
          }
        }
      ]
    },
    {
      "cell_type": "code",
      "metadata": {
        "colab": {
          "base_uri": "https://localhost:8080/"
        },
        "id": "gMpPQ45TNqN-",
        "outputId": "bd142428-4533-4bac-d250-5e7abbad60c2"
      },
      "source": [
        "from sklearn.metrics import *\n",
        "print(\"accuracy ==> {0:.0%}\".format(accuracy_score(y_testf, y_predf)))\n",
        "print(\"precision ==> {0:.0%}\".format(precision_score(y_testf, y_predf)))\n",
        "print(\"recall ==> {:0.2f}\".format(recall_score(y_testf, y_predf)))\n",
        "print(\"f1_score ==> {:0.2f}\".format(f1_score(y_testf, y_predf)))"
      ],
      "execution_count": null,
      "outputs": [
        {
          "output_type": "stream",
          "text": [
            "accuracy ==> 78%\n",
            "precision ==> 70%\n",
            "recall ==> 0.67\n",
            "f1_score ==> 0.69\n"
          ],
          "name": "stdout"
        }
      ]
    },
    {
      "cell_type": "markdown",
      "metadata": {
        "id": "9k4Zm-djJKX1"
      },
      "source": [
        "grid search avec features engineering"
      ]
    },
    {
      "cell_type": "code",
      "metadata": {
        "id": "G6f9EmkTmxgf"
      },
      "source": [
        "from sklearn.model_selection import GridSearchCV\n",
        "# log\n",
        "log_params = {'penalty':['l1', 'l2'], \n",
        "              'C': [0.0001, 0.001, 0.01, 0.1, 1, 10, 100, 100], \n",
        "              'solver':['liblinear', 'saga']}\n",
        "log_model = GridSearchCV(LogisticRegression(), log_params, cv=5)\n",
        "log_model.fit(x_trainf, y_trainf)\n",
        "y_predf = log_model.predict(x_testf)\n"
      ],
      "execution_count": null,
      "outputs": []
    },
    {
      "cell_type": "code",
      "metadata": {
        "id": "XnuaVv7F1pMF",
        "colab": {
          "base_uri": "https://localhost:8080/"
        },
        "outputId": "f782c1f3-67e1-41c2-b3f3-94903f08f64d"
      },
      "source": [
        "best_parms_log = log_model.best_params_\n",
        "print(best_parms_log)"
      ],
      "execution_count": null,
      "outputs": [
        {
          "output_type": "stream",
          "text": [
            "{'C': 10, 'penalty': 'l1', 'solver': 'liblinear'}\n"
          ],
          "name": "stdout"
        }
      ]
    },
    {
      "cell_type": "code",
      "metadata": {
        "id": "c3flX4oknHaH",
        "colab": {
          "base_uri": "https://localhost:8080/",
          "height": 296
        },
        "outputId": "202fccd5-5ca7-42ab-8b55-13e80c14822b"
      },
      "source": [
        "from sklearn.metrics import plot_confusion_matrix\n",
        "plot_confusion_matrix(log_model, x_testf, y_testf,  cmap=plt.cm.Blues,values_format='d' ,normalize=None ,display_labels=['No', 'Yes'])"
      ],
      "execution_count": null,
      "outputs": [
        {
          "output_type": "execute_result",
          "data": {
            "text/plain": [
              "<sklearn.metrics._plot.confusion_matrix.ConfusionMatrixDisplay at 0x7f53a2cc4490>"
            ]
          },
          "metadata": {
            "tags": []
          },
          "execution_count": 133
        },
        {
          "output_type": "display_data",
          "data": {
            "image/png": "[encoded data removed]",
            "text/plain": [
              "<Figure size 432x288 with 2 Axes>"
            ]
          },
          "metadata": {
            "tags": [],
            "needs_background": "light"
          }
        }
      ]
    },
    {
      "cell_type": "code",
      "metadata": {
        "id": "2-8PwPmZnQZS",
        "colab": {
          "base_uri": "https://localhost:8080/"
        },
        "outputId": "66cff447-6173-42f9-d210-ee903b45302d"
      },
      "source": [
        "from sklearn.metrics import *\n",
        "print(\"accuracy ==> {0:.0%}\".format(accuracy_score(y_testf, y_predf)))\n",
        "print(\"precision ==> {0:.0%}\".format(precision_score(y_testf, y_predf)))\n",
        "print(\"recall ==> {:0.2f}\".format(recall_score(y_testf, y_predf)))\n",
        "print(\"f1_score ==> {:0.2f}\".format(f1_score(y_testf, y_predf)))"
      ],
      "execution_count": null,
      "outputs": [
        {
          "output_type": "stream",
          "text": [
            "accuracy ==> 80%\n",
            "precision ==> 71%\n",
            "recall ==> 0.75\n",
            "f1_score ==> 0.73\n"
          ],
          "name": "stdout"
        }
      ]
    },
    {
      "cell_type": "markdown",
      "metadata": {
        "id": "IuBdSt0ZLU0l"
      },
      "source": [
        "# **Gaussian naive bayes**"
      ]
    },
    {
      "cell_type": "markdown",
      "metadata": {
        "id": "YNsQLkwFJjsW"
      },
      "source": [
        "gaussian naive bayes sans features engineering"
      ]
    },
    {
      "cell_type": "code",
      "metadata": {
        "id": "wgUx8K8bONJ9"
      },
      "source": [
        "from sklearn.naive_bayes import GaussianNB\n",
        "gnb = GaussianNB()"
      ],
      "execution_count": null,
      "outputs": []
    },
    {
      "cell_type": "code",
      "metadata": {
        "id": "wJpiyuQvRoTb"
      },
      "source": [
        "y_pred = gnb.fit(X_train, y_train).predict(X_test)"
      ],
      "execution_count": null,
      "outputs": []
    },
    {
      "cell_type": "code",
      "metadata": {
        "id": "yRzZhKX0Rv1d",
        "colab": {
          "base_uri": "https://localhost:8080/"
        },
        "outputId": "6dacb52b-169e-44fe-c382-d33c8859d686"
      },
      "source": [
        "print(\"Number of mislabeled points out of a total %d points : %d (%d percent)\"\n",
        "...       % (X_test.shape[0], (y_test != y_pred).sum(), 100*(y_test != y_pred).sum()/X_test.shape[0]))"
      ],
      "execution_count": null,
      "outputs": [
        {
          "output_type": "stream",
          "text": [
            "Number of mislabeled points out of a total 154 points : 36 (23 percent)\n"
          ],
          "name": "stdout"
        }
      ]
    },
    {
      "cell_type": "code",
      "metadata": {
        "id": "vnkI1AhFRzxm",
        "colab": {
          "base_uri": "https://localhost:8080/",
          "height": 300
        },
        "outputId": "35f89c2f-48a4-45fb-adca-94e411ea667a"
      },
      "source": [
        "from sklearn.metrics import plot_confusion_matrix\n",
        "plot_confusion_matrix(gnb, X_test, y_test,  cmap=plt.cm.Blues,values_format='d' ,normalize=None ,display_labels=['No', 'Yes'])"
      ],
      "execution_count": null,
      "outputs": [
        {
          "output_type": "execute_result",
          "data": {
            "text/plain": [
              "<sklearn.metrics._plot.confusion_matrix.ConfusionMatrixDisplay at 0x7f53957db8d0>"
            ]
          },
          "metadata": {
            "tags": []
          },
          "execution_count": 138
        },
        {
          "output_type": "display_data",
          "data": {
            "image/png": "[encoded data removed]",
            "text/plain": [
              "<Figure size 432x288 with 2 Axes>"
            ]
          },
          "metadata": {
            "tags": [],
            "needs_background": "light"
          }
        }
      ]
    },
    {
      "cell_type": "code",
      "metadata": {
        "id": "Q6t6bTrTR0Z8",
        "colab": {
          "base_uri": "https://localhost:8080/"
        },
        "outputId": "d38c0836-9120-4156-bbe1-1d03f3b8f65c"
      },
      "source": [
        "from sklearn.metrics import *\n",
        "print(\"accuracy ==> {0:.2%}\".format(accuracy_score(y_test, y_pred)))\n",
        "print(\"precision ==> {0:.2%}\".format(precision_score(y_test, y_pred)))\n",
        "print(\"recall ==> {:0.2f}\".format(recall_score(y_test, y_pred)))\n",
        "print(\"f1_score ==> {:0.2f}\".format(f1_score(y_test, y_pred)))"
      ],
      "execution_count": null,
      "outputs": [
        {
          "output_type": "stream",
          "text": [
            "accuracy ==> 76.62%\n",
            "precision ==> 66.67%\n",
            "recall ==> 0.69\n",
            "f1_score ==> 0.68\n"
          ],
          "name": "stdout"
        }
      ]
    },
    {
      "cell_type": "markdown",
      "metadata": {
        "id": "om4zure3Lfqx"
      },
      "source": [
        "gaussian naive bayes avec features engineering\n",
        "\n"
      ]
    },
    {
      "cell_type": "code",
      "metadata": {
        "id": "nwtPNQOYLxD8"
      },
      "source": [
        "y_predf = gnb.fit(x_trainf, y_trainf).predict(x_testf)"
      ],
      "execution_count": null,
      "outputs": []
    },
    {
      "cell_type": "code",
      "metadata": {
        "colab": {
          "base_uri": "https://localhost:8080/",
          "height": 296
        },
        "id": "xZ818xonL5bw",
        "outputId": "8bba8542-0969-46b5-d64a-e8c15409671a"
      },
      "source": [
        "from sklearn.metrics import plot_confusion_matrix\n",
        "plot_confusion_matrix(gnb, x_testf, y_testf,  cmap=plt.cm.Blues,values_format='d' ,normalize=None ,display_labels=['No', 'Yes'])"
      ],
      "execution_count": null,
      "outputs": [
        {
          "output_type": "execute_result",
          "data": {
            "text/plain": [
              "<sklearn.metrics._plot.confusion_matrix.ConfusionMatrixDisplay at 0x7f539585b3d0>"
            ]
          },
          "metadata": {
            "tags": []
          },
          "execution_count": 141
        },
        {
          "output_type": "display_data",
          "data": {
            "image/png": "[encoded data removed]",
            "text/plain": [
              "<Figure size 432x288 with 2 Axes>"
            ]
          },
          "metadata": {
            "tags": [],
            "needs_background": "light"
          }
        }
      ]
    },
    {
      "cell_type": "code",
      "metadata": {
        "colab": {
          "base_uri": "https://localhost:8080/"
        },
        "id": "kSxll_ZbO00z",
        "outputId": "cd025b24-1cd3-4624-bfb3-056137f0bf92"
      },
      "source": [
        "from sklearn.metrics import *\n",
        "print(\"accuracy ==> {0:.2%}\".format(accuracy_score(y_testf, y_predf)))\n",
        "print(\"precision ==> {0:.2%}\".format(precision_score(y_testf, y_predf)))\n",
        "print(\"recall ==> {:0.2f}\".format(recall_score(y_testf, y_predf)))\n",
        "print(\"f1_score ==> {:0.2f}\".format(f1_score(y_testf, y_predf)))"
      ],
      "execution_count": null,
      "outputs": [
        {
          "output_type": "stream",
          "text": [
            "accuracy ==> 80.52%\n",
            "precision ==> 69.23%\n",
            "recall ==> 0.82\n",
            "f1_score ==> 0.75\n"
          ],
          "name": "stdout"
        }
      ]
    },
    {
      "cell_type": "markdown",
      "metadata": {
        "id": "wO1V06PJNDSM"
      },
      "source": [
        "#**Support Vector Machine**"
      ]
    },
    {
      "cell_type": "code",
      "metadata": {
        "id": "ggbiSMz-NS-N"
      },
      "source": [
        "import warnings\n",
        "import pandas as pd \n",
        "import numpy as np \n",
        "from matplotlib import pyplot as plt \n",
        "from sklearn.model_selection import cross_val_score , train_test_split\n",
        "from sklearn.metrics import confusion_matrix , precision_recall_fscore_support , classification_report\n",
        "from sklearn.svm import SVC\n",
        "from sklearn.model_selection import GridSearchCV\n",
        "import seaborn as sns\n",
        "from sklearn import preprocessing"
      ],
      "execution_count": null,
      "outputs": []
    },
    {
      "cell_type": "markdown",
      "metadata": {
        "id": "PDzeTILeUE2y"
      },
      "source": [
        "svm sans features engineering"
      ]
    },
    {
      "cell_type": "code",
      "metadata": {
        "id": "IjLwQkX4SRUd"
      },
      "source": [
        "svc_model = SVC(kernel='linear')\n",
        "y_pred = svc_model.fit(x_train, y_train).predict(x_test)"
      ],
      "execution_count": null,
      "outputs": []
    },
    {
      "cell_type": "code",
      "metadata": {
        "colab": {
          "base_uri": "https://localhost:8080/",
          "height": 296
        },
        "id": "QksnMtdOULX7",
        "outputId": "82ee8642-12cb-4e76-f772-b15b248a3228"
      },
      "source": [
        "from sklearn.metrics import plot_confusion_matrix\n",
        "plot_confusion_matrix(svc_model, x_test, y_test,  cmap=plt.cm.Blues,values_format='d' ,normalize=None ,display_labels=['No', 'Yes'])"
      ],
      "execution_count": null,
      "outputs": [
        {
          "output_type": "execute_result",
          "data": {
            "text/plain": [
              "<sklearn.metrics._plot.confusion_matrix.ConfusionMatrixDisplay at 0x7f53958fc690>"
            ]
          },
          "metadata": {
            "tags": []
          },
          "execution_count": 145
        },
        {
          "output_type": "display_data",
          "data": {
            "image/png": "[encoded data removed]",
            "text/plain": [
              "<Figure size 432x288 with 2 Axes>"
            ]
          },
          "metadata": {
            "tags": [],
            "needs_background": "light"
          }
        }
      ]
    },
    {
      "cell_type": "code",
      "metadata": {
        "colab": {
          "base_uri": "https://localhost:8080/"
        },
        "id": "RS-RwhPAUT4L",
        "outputId": "ba5999dd-a53e-41ac-a9dc-2e696c6e78c9"
      },
      "source": [
        "from sklearn.metrics import *\n",
        "print(\"accuracy ==> {0:.0%}\".format(accuracy_score(y_test, y_pred)))\n",
        "print(\"precision ==> {0:.0%}\".format(precision_score(y_test, y_pred)))\n",
        "print(\"recall ==> {:0.2f}\".format(recall_score(y_test, y_pred)))\n",
        "print(\"f1_score ==> {:0.2f}\".format(f1_score(y_test, y_pred)))"
      ],
      "execution_count": null,
      "outputs": [
        {
          "output_type": "stream",
          "text": [
            "accuracy ==> 79%\n",
            "precision ==> 73%\n",
            "recall ==> 0.67\n",
            "f1_score ==> 0.70\n"
          ],
          "name": "stdout"
        }
      ]
    },
    {
      "cell_type": "markdown",
      "metadata": {
        "id": "Y-iUWXoBVq8w"
      },
      "source": [
        "svm avec features engneering"
      ]
    },
    {
      "cell_type": "code",
      "metadata": {
        "id": "4YVmE7hGVyd1"
      },
      "source": [
        "svc_model = SVC(kernel='linear')\n",
        "y_predf = svc_model.fit(x_trainf, y_trainf).predict(x_testf)"
      ],
      "execution_count": null,
      "outputs": []
    },
    {
      "cell_type": "code",
      "metadata": {
        "colab": {
          "base_uri": "https://localhost:8080/",
          "height": 297
        },
        "id": "6Uc_2vDfUYvE",
        "outputId": "ff59ff03-391d-484f-972f-9154441eae5d"
      },
      "source": [
        "from sklearn.metrics import plot_confusion_matrix\n",
        "plot_confusion_matrix(svc_model, x_testf, y_testf,  cmap=plt.cm.Blues,values_format='d' ,normalize=None ,display_labels=['No', 'Yes'])"
      ],
      "execution_count": null,
      "outputs": [
        {
          "output_type": "execute_result",
          "data": {
            "text/plain": [
              "<sklearn.metrics._plot.confusion_matrix.ConfusionMatrixDisplay at 0x7f5395a981d0>"
            ]
          },
          "metadata": {
            "tags": []
          },
          "execution_count": 148
        },
        {
          "output_type": "display_data",
          "data": {
            "image/png": "[encoded data removed]",
            "text/plain": [
              "<Figure size 432x288 with 2 Axes>"
            ]
          },
          "metadata": {
            "tags": [],
            "needs_background": "light"
          }
        }
      ]
    },
    {
      "cell_type": "code",
      "metadata": {
        "colab": {
          "base_uri": "https://localhost:8080/"
        },
        "id": "iK5845b1V4dV",
        "outputId": "9ee506fc-41d0-49c3-b116-10af56ec6628"
      },
      "source": [
        "from sklearn.metrics import *\n",
        "print(\"accuracy ==> {0:.0%}\".format(accuracy_score(y_testf, y_predf)))\n",
        "print(\"precision ==> {0:.0%}\".format(precision_score(y_testf, y_predf)))\n",
        "print(\"recall ==> {:0.2f}\".format(recall_score(y_testf, y_predf)))\n",
        "print(\"f1_score ==> {:0.2f}\".format(f1_score(y_testf, y_predf)))"
      ],
      "execution_count": null,
      "outputs": [
        {
          "output_type": "stream",
          "text": [
            "accuracy ==> 81%\n",
            "precision ==> 70%\n",
            "recall ==> 0.78\n",
            "f1_score ==> 0.74\n"
          ],
          "name": "stdout"
        }
      ]
    },
    {
      "cell_type": "markdown",
      "metadata": {
        "id": "bNHYjEd6SWAb"
      },
      "source": [
        "grid search sans features engineering"
      ]
    },
    {
      "cell_type": "code",
      "metadata": {
        "id": "_XkyVRKZkUwW"
      },
      "source": [
        "svc_params = {'C': [0.001, 0.01, 0.1, 1],\n",
        "              'kernel': [ 'linear' , 'poly' , 'rbf' , 'sigmoid' ]}\n",
        "svc_model = GridSearchCV(SVC(), svc_params, cv=5)\n",
        "svc_model.fit(x_train, y_train)\n",
        "y_pred = svc_model.predict(x_test)"
      ],
      "execution_count": null,
      "outputs": []
    },
    {
      "cell_type": "code",
      "metadata": {
        "id": "iBF_yuT-j-wS",
        "colab": {
          "base_uri": "https://localhost:8080/",
          "height": 296
        },
        "outputId": "b142ac86-4b0e-48bd-fccc-c405233e1e5a"
      },
      "source": [
        "from sklearn.metrics import plot_confusion_matrix\n",
        "plot_confusion_matrix(svc_model, x_test, y_test,  cmap=plt.cm.Blues,values_format='d' ,normalize=None ,display_labels=['No', 'Yes'])"
      ],
      "execution_count": null,
      "outputs": [
        {
          "output_type": "execute_result",
          "data": {
            "text/plain": [
              "<sklearn.metrics._plot.confusion_matrix.ConfusionMatrixDisplay at 0x7f5395d72ed0>"
            ]
          },
          "metadata": {
            "tags": []
          },
          "execution_count": 151
        },
        {
          "output_type": "display_data",
          "data": {
            "image/png": "[encoded data removed]",
            "text/plain": [
              "<Figure size 432x288 with 2 Axes>"
            ]
          },
          "metadata": {
            "tags": [],
            "needs_background": "light"
          }
        }
      ]
    },
    {
      "cell_type": "code",
      "metadata": {
        "id": "xRnzbaB1kJBy",
        "colab": {
          "base_uri": "https://localhost:8080/"
        },
        "outputId": "0a62956b-2e6c-4422-ee37-4c7b41312db7"
      },
      "source": [
        "from sklearn.metrics import *\n",
        "print(\"accuracy ==> {0:.0%}\".format(accuracy_score(y_test, y_pred)))\n",
        "print(\"precision ==> {0:.0%}\".format(precision_score(y_test, y_pred)))\n",
        "print(\"recall ==> {:0.2f}\".format(recall_score(y_test, y_pred)))\n",
        "print(\"f1_score ==> {:0.2f}\".format(f1_score(y_test, y_pred)))"
      ],
      "execution_count": null,
      "outputs": [
        {
          "output_type": "stream",
          "text": [
            "accuracy ==> 84%\n",
            "precision ==> 77%\n",
            "recall ==> 0.80\n",
            "f1_score ==> 0.79\n"
          ],
          "name": "stdout"
        }
      ]
    },
    {
      "cell_type": "markdown",
      "metadata": {
        "id": "Eu22IEgjTGRN"
      },
      "source": [
        "grid search avec features engineering"
      ]
    },
    {
      "cell_type": "code",
      "metadata": {
        "id": "XlsPoexzkmO3"
      },
      "source": [
        "svc_params = {'C': [0.001, 0.01, 0.1, 1],\n",
        "              'kernel': [ 'linear' , 'poly' , 'rbf' , 'sigmoid' ]}\n",
        "svc_model = GridSearchCV(SVC(), svc_params, cv=5)\n",
        "svc_model.fit(x_trainf, y_trainf)\n",
        "y_predf = svc_model.predict(x_testf)"
      ],
      "execution_count": null,
      "outputs": []
    },
    {
      "cell_type": "code",
      "metadata": {
        "id": "_si9d39B12lc",
        "colab": {
          "base_uri": "https://localhost:8080/"
        },
        "outputId": "bf3ba247-165d-4f8e-bddc-dacc55811d79"
      },
      "source": [
        "best_parms_svc = svc_model.best_params_\n",
        "print(best_parms_svc)"
      ],
      "execution_count": null,
      "outputs": [
        {
          "output_type": "stream",
          "text": [
            "{'C': 1, 'kernel': 'rbf'}\n"
          ],
          "name": "stdout"
        }
      ]
    },
    {
      "cell_type": "code",
      "metadata": {
        "id": "J8_g7caHkvPq",
        "colab": {
          "base_uri": "https://localhost:8080/",
          "height": 296
        },
        "outputId": "7c0a2b6b-c8ff-43e6-df8b-d19bcce59ed0"
      },
      "source": [
        "from sklearn.metrics import plot_confusion_matrix, roc_curve, roc_auc_score\n",
        "plot_confusion_matrix(svc_model, x_testf, y_testf,  cmap=plt.cm.Blues,values_format='d' ,normalize=None ,display_labels=['No', 'Yes'])"
      ],
      "execution_count": null,
      "outputs": [
        {
          "output_type": "execute_result",
          "data": {
            "text/plain": [
              "<sklearn.metrics._plot.confusion_matrix.ConfusionMatrixDisplay at 0x7f53952ea1d0>"
            ]
          },
          "metadata": {
            "tags": []
          },
          "execution_count": 155
        },
        {
          "output_type": "display_data",
          "data": {
            "image/png": "[encoded data removed]",
            "text/plain": [
              "<Figure size 432x288 with 2 Axes>"
            ]
          },
          "metadata": {
            "tags": [],
            "needs_background": "light"
          }
        }
      ]
    },
    {
      "cell_type": "code",
      "metadata": {
        "id": "1HZHX6OOl5s_",
        "colab": {
          "base_uri": "https://localhost:8080/"
        },
        "outputId": "3fa8d1aa-607c-4e91-fda9-9655c290ad38"
      },
      "source": [
        "from sklearn.metrics import *\n",
        "print(\"accuracy ==> {0:.0%}\".format(accuracy_score(y_testf, y_predf)))\n",
        "print(\"precision ==> {0:.0%}\".format(precision_score(y_testf, y_predf)))\n",
        "print(\"recall ==> {:0.2f}\".format(recall_score(y_testf, y_predf)))\n",
        "print(\"f1_score ==> {:0.2f}\".format(f1_score(y_testf, y_predf)))"
      ],
      "execution_count": null,
      "outputs": [
        {
          "output_type": "stream",
          "text": [
            "accuracy ==> 86%\n",
            "precision ==> 80%\n",
            "recall ==> 0.82\n",
            "f1_score ==> 0.81\n"
          ],
          "name": "stdout"
        }
      ]
    },
    {
      "cell_type": "markdown",
      "metadata": {
        "id": "U4kmDHI0Za4k"
      },
      "source": [
        "# **Decision tree**"
      ]
    },
    {
      "cell_type": "markdown",
      "metadata": {
        "id": "4K_XYm4XYD_g"
      },
      "source": [
        "decision tree sans features engineering"
      ]
    },
    {
      "cell_type": "code",
      "metadata": {
        "id": "0ENw64myZlaX"
      },
      "source": [
        " from sklearn import tree\n",
        "dt_model = tree.DecisionTreeClassifier(criterion='gini')\n",
        "y_pred = dt_model.fit(x_train, y_train).predict(x_test)"
      ],
      "execution_count": null,
      "outputs": []
    },
    {
      "cell_type": "code",
      "metadata": {
        "id": "zjLbNJlQgkVv",
        "colab": {
          "base_uri": "https://localhost:8080/",
          "height": 296
        },
        "outputId": "ae613378-5fb9-4c5c-8ae5-ef274b7d5c82"
      },
      "source": [
        "from sklearn.metrics import plot_confusion_matrix\n",
        "plot_confusion_matrix(dt_model, x_test, y_test,  cmap=plt.cm.Blues,values_format='d' ,normalize=None ,display_labels=['No', 'Yes'])"
      ],
      "execution_count": null,
      "outputs": [
        {
          "output_type": "execute_result",
          "data": {
            "text/plain": [
              "<sklearn.metrics._plot.confusion_matrix.ConfusionMatrixDisplay at 0x7f5395d5c7d0>"
            ]
          },
          "metadata": {
            "tags": []
          },
          "execution_count": 158
        },
        {
          "output_type": "display_data",
          "data": {
            "image/png": "[encoded data removed]",
            "text/plain": [
              "<Figure size 432x288 with 2 Axes>"
            ]
          },
          "metadata": {
            "tags": [],
            "needs_background": "light"
          }
        }
      ]
    },
    {
      "cell_type": "code",
      "metadata": {
        "colab": {
          "base_uri": "https://localhost:8080/"
        },
        "id": "gkLetKNzG682",
        "outputId": "8a291058-cd62-489b-80b9-db9f49dd20c7"
      },
      "source": [
        "from sklearn.metrics import *\n",
        "print(\"accuracy ==> {0:.0%}\".format(accuracy_score(y_test, y_pred)))\n",
        "print(\"precision ==> {0:.0%}\".format(precision_score(y_test, y_pred)))\n",
        "print(\"recall ==> {:0.2f}\".format(recall_score(y_test, y_pred)))\n",
        "print(\"f1_score ==> {:0.2f}\".format(f1_score(y_test, y_pred)))"
      ],
      "execution_count": null,
      "outputs": [
        {
          "output_type": "stream",
          "text": [
            "accuracy ==> 84%\n",
            "precision ==> 76%\n",
            "recall ==> 0.80\n",
            "f1_score ==> 0.78\n"
          ],
          "name": "stdout"
        }
      ]
    },
    {
      "cell_type": "markdown",
      "metadata": {
        "id": "Vu0xpwqvYawW"
      },
      "source": [
        "decision tree avec features engineering"
      ]
    },
    {
      "cell_type": "code",
      "metadata": {
        "id": "tnbhgrWfYht2"
      },
      "source": [
        " from sklearn import tree\n",
        "dt_model = tree.DecisionTreeClassifier(criterion='entropy')\n",
        "y_predf = dt_model.fit(x_trainf, y_trainf).predict(x_testf)"
      ],
      "execution_count": null,
      "outputs": []
    },
    {
      "cell_type": "code",
      "metadata": {
        "colab": {
          "base_uri": "https://localhost:8080/",
          "height": 296
        },
        "id": "kCWQsw4QY175",
        "outputId": "78461afa-6b1c-4af9-c3a9-758beb243cfe"
      },
      "source": [
        "from sklearn.metrics import plot_confusion_matrix\n",
        "plot_confusion_matrix(dt_model, x_testf, y_testf,  cmap=plt.cm.Blues,values_format='d' ,normalize=None ,display_labels=['No', 'Yes'])"
      ],
      "execution_count": null,
      "outputs": [
        {
          "output_type": "execute_result",
          "data": {
            "text/plain": [
              "<sklearn.metrics._plot.confusion_matrix.ConfusionMatrixDisplay at 0x7f5395475290>"
            ]
          },
          "metadata": {
            "tags": []
          },
          "execution_count": 161
        },
        {
          "output_type": "display_data",
          "data": {
            "image/png": "[encoded data removed]",
            "text/plain": [
              "<Figure size 432x288 with 2 Axes>"
            ]
          },
          "metadata": {
            "tags": [],
            "needs_background": "light"
          }
        }
      ]
    },
    {
      "cell_type": "code",
      "metadata": {
        "colab": {
          "base_uri": "https://localhost:8080/"
        },
        "id": "rLFRIw8YY7R_",
        "outputId": "7bdce145-328c-405e-a182-9ec39ae09403"
      },
      "source": [
        "from sklearn.metrics import *\n",
        "print(\"accuracy ==> {0:.0%}\".format(accuracy_score(y_testf, y_predf)))\n",
        "print(\"precision ==> {0:.0%}\".format(precision_score(y_testf, y_predf)))\n",
        "print(\"recall ==> {:0.2f}\".format(recall_score(y_testf, y_predf)))\n",
        "print(\"f1_score ==> {:0.2f}\".format(f1_score(y_testf, y_predf)))"
      ],
      "execution_count": null,
      "outputs": [
        {
          "output_type": "stream",
          "text": [
            "accuracy ==> 83%\n",
            "precision ==> 73%\n",
            "recall ==> 0.84\n",
            "f1_score ==> 0.78\n"
          ],
          "name": "stdout"
        }
      ]
    },
    {
      "cell_type": "markdown",
      "metadata": {
        "id": "4nS2rwwHeFvK"
      },
      "source": [
        "grid search sans features engineering"
      ]
    },
    {
      "cell_type": "code",
      "metadata": {
        "id": "KG5T0ZYIeZzj"
      },
      "source": [
        "\n",
        "dt_params = {'criterion' : ['gini', 'entropy'],\n",
        "              'splitter': ['random', 'best'], \n",
        "              'max_depth': [None,3, 5, 7, 9, 11, 13]}\n",
        "dt_model = GridSearchCV(tree.DecisionTreeClassifier(), dt_params, cv=5)\n",
        "dt_model.fit(x_train, y_train)\n",
        "y_pred = dt_model.predict(x_test)\n"
      ],
      "execution_count": null,
      "outputs": []
    },
    {
      "cell_type": "code",
      "metadata": {
        "colab": {
          "base_uri": "https://localhost:8080/",
          "height": 296
        },
        "id": "TUECrH5mhKob",
        "outputId": "c0b2c3c1-b050-4fd9-de18-55dee522805e"
      },
      "source": [
        "from sklearn.metrics import plot_confusion_matrix\n",
        "plot_confusion_matrix(dt_model, x_test, y_test,  cmap=plt.cm.Blues,values_format='d' ,normalize=None ,display_labels=['No', 'Yes'])"
      ],
      "execution_count": null,
      "outputs": [
        {
          "output_type": "execute_result",
          "data": {
            "text/plain": [
              "<sklearn.metrics._plot.confusion_matrix.ConfusionMatrixDisplay at 0x7f5395c60050>"
            ]
          },
          "metadata": {
            "tags": []
          },
          "execution_count": 164
        },
        {
          "output_type": "display_data",
          "data": {
            "image/png": "[encoded data removed]",
            "text/plain": [
              "<Figure size 432x288 with 2 Axes>"
            ]
          },
          "metadata": {
            "tags": [],
            "needs_background": "light"
          }
        }
      ]
    },
    {
      "cell_type": "code",
      "metadata": {
        "id": "e2JjBL9Yf9RM"
      },
      "source": [
        "dt_params = {'criterion' : ['gini', 'entropy'],\n",
        "              'splitter': ['random', 'best'], \n",
        "              'max_depth': [None,3, 5, 7, 9, 11, 13]}\n",
        "dt_model = GridSearchCV(tree.DecisionTreeClassifier(), dt_params, cv=5)\n",
        "dt_model.fit(x_train, y_train)\n",
        "y_predf = dt_model.predict(x_test)\n"
      ],
      "execution_count": null,
      "outputs": []
    },
    {
      "cell_type": "code",
      "metadata": {
        "colab": {
          "base_uri": "https://localhost:8080/"
        },
        "id": "KUfxVUWDgAHm",
        "outputId": "288b8bba-a039-4f4c-ae0c-23c1ddbab7f1"
      },
      "source": [
        "from sklearn.metrics import *\n",
        "print(\"accuracy ==> {0:.0%}\".format(accuracy_score(y_test, y_pred)))\n",
        "print(\"precision ==> {0:.0%}\".format(precision_score(y_test, y_pred)))\n",
        "print(\"recall ==> {:0.2f}\".format(recall_score(y_test, y_pred)))\n",
        "print(\"f1_score ==> {:0.2f}\".format(f1_score(y_test, y_pred)))"
      ],
      "execution_count": null,
      "outputs": [
        {
          "output_type": "stream",
          "text": [
            "accuracy ==> 86%\n",
            "precision ==> 81%\n",
            "recall ==> 0.80\n",
            "f1_score ==> 0.81\n"
          ],
          "name": "stdout"
        }
      ]
    },
    {
      "cell_type": "markdown",
      "metadata": {
        "id": "8fs0NMhSYLp0"
      },
      "source": [
        "grid search avec features engineering"
      ]
    },
    {
      "cell_type": "code",
      "metadata": {
        "id": "kcdEgwiUuN0-"
      },
      "source": [
        "\n",
        "dt_params = {'criterion' : ['gini', 'entropy'],\n",
        "              'splitter': ['random', 'best'], \n",
        "              'max_depth': [None,3, 5, 7, 9, 11, 13]}\n",
        "dt_model = GridSearchCV(tree.DecisionTreeClassifier(), dt_params, cv=5)\n",
        "dt_model.fit(x_trainf, y_trainf)\n",
        "y_predf = dt_model.predict(x_testf)\n"
      ],
      "execution_count": null,
      "outputs": []
    },
    {
      "cell_type": "code",
      "metadata": {
        "id": "n4KGz7ClwrSh",
        "colab": {
          "base_uri": "https://localhost:8080/"
        },
        "outputId": "3b238d52-e064-40f6-b55a-fb8985b5bfda"
      },
      "source": [
        "best_params_dt = dt_model.best_params_\n",
        "best_params_dt"
      ],
      "execution_count": null,
      "outputs": [
        {
          "output_type": "execute_result",
          "data": {
            "text/plain": [
              "{'criterion': 'gini', 'max_depth': 9, 'splitter': 'best'}"
            ]
          },
          "metadata": {
            "tags": []
          },
          "execution_count": 168
        }
      ]
    },
    {
      "cell_type": "code",
      "metadata": {
        "id": "aepbIlTKu86z",
        "colab": {
          "base_uri": "https://localhost:8080/",
          "height": 296
        },
        "outputId": "61d2af2a-dae8-4b2d-85d8-48a8a8e01e9e"
      },
      "source": [
        "from sklearn.metrics import plot_confusion_matrix, roc_curve, roc_auc_score\n",
        "plot_confusion_matrix(dt_model, x_testf, y_testf,  cmap=plt.cm.Blues,values_format='d' ,normalize=None ,display_labels=['No', 'Yes'])"
      ],
      "execution_count": null,
      "outputs": [
        {
          "output_type": "execute_result",
          "data": {
            "text/plain": [
              "<sklearn.metrics._plot.confusion_matrix.ConfusionMatrixDisplay at 0x7f53951c69d0>"
            ]
          },
          "metadata": {
            "tags": []
          },
          "execution_count": 169
        },
        {
          "output_type": "display_data",
          "data": {
            "image/png": "[encoded data removed]",
            "text/plain": [
              "<Figure size 432x288 with 2 Axes>"
            ]
          },
          "metadata": {
            "tags": [],
            "needs_background": "light"
          }
        }
      ]
    },
    {
      "cell_type": "code",
      "metadata": {
        "id": "oBaxd-77nCH_",
        "colab": {
          "base_uri": "https://localhost:8080/"
        },
        "outputId": "8c950f53-0a90-4103-ff23-409ad8290f1e"
      },
      "source": [
        "from sklearn.metrics import *\n",
        "print(\"accuracy ==> {0:.0%}\".format(accuracy_score(y_testf, y_predf)))\n",
        "print(\"precision ==> {0:.0%}\".format(precision_score(y_testf, y_predf)))\n",
        "print(\"recall ==> {:0.2f}\".format(recall_score(y_testf, y_predf)))\n",
        "print(\"f1_score ==> {:0.2f}\".format(f1_score(y_testf, y_predf)))"
      ],
      "execution_count": null,
      "outputs": [
        {
          "output_type": "stream",
          "text": [
            "accuracy ==> 82%\n",
            "precision ==> 71%\n",
            "recall ==> 0.87\n",
            "f1_score ==> 0.78\n"
          ],
          "name": "stdout"
        }
      ]
    },
    {
      "cell_type": "markdown",
      "metadata": {
        "id": "vT2TVhf32hJp"
      },
      "source": [
        "# **Ensemble Learning**"
      ]
    },
    {
      "cell_type": "markdown",
      "metadata": {
        "id": "4AN3lvD0WWTU"
      },
      "source": [
        "# **Random Forest**"
      ]
    },
    {
      "cell_type": "markdown",
      "metadata": {
        "id": "SdOoFV5JHe1f"
      },
      "source": [
        "random forest sans features  engineering"
      ]
    },
    {
      "cell_type": "code",
      "metadata": {
        "id": "TU---Co5DGX2"
      },
      "source": [
        "from sklearn.ensemble import RandomForestClassifier\n",
        "from sklearn.model_selection import GridSearchCV\n",
        "\n",
        "\n",
        "rf_model = RandomForestClassifier(n_estimators=15)\n",
        "rf_model.fit(x_train, y_train)\n",
        "y_pred = rf_model.predict(x_test)"
      ],
      "execution_count": null,
      "outputs": []
    },
    {
      "cell_type": "code",
      "metadata": {
        "colab": {
          "base_uri": "https://localhost:8080/",
          "height": 296
        },
        "id": "EobZrDD-HhCZ",
        "outputId": "90cfb737-b210-4b6f-b015-a457786e5484"
      },
      "source": [
        "from sklearn.metrics import plot_confusion_matrix\n",
        "plot_confusion_matrix(rf_model, x_test, y_test,  cmap=plt.cm.Blues,values_format='d' ,normalize=None ,display_labels=['No', 'Yes'])"
      ],
      "execution_count": null,
      "outputs": [
        {
          "output_type": "execute_result",
          "data": {
            "text/plain": [
              "<sklearn.metrics._plot.confusion_matrix.ConfusionMatrixDisplay at 0x7f274b417150>"
            ]
          },
          "metadata": {
            "tags": []
          },
          "execution_count": 252
        },
        {
          "output_type": "display_data",
          "data": {
            "image/png": "[encoded data removed]",
            "text/plain": [
              "<Figure size 432x288 with 2 Axes>"
            ]
          },
          "metadata": {
            "tags": [],
            "needs_background": "light"
          }
        }
      ]
    },
    {
      "cell_type": "code",
      "metadata": {
        "colab": {
          "base_uri": "https://localhost:8080/"
        },
        "id": "0nCzWaoAHjnx",
        "outputId": "93b4ae4f-e712-446a-c68c-4f8fda7c0163"
      },
      "source": [
        "from sklearn.metrics import *\n",
        "print(\"accuracy ==> {0:.0%}\".format(accuracy_score(y_test, y_pred)))\n",
        "print(\"precision ==> {0:.0%}\".format(precision_score(y_test, y_pred)))\n",
        "print(\"recall ==> {:0.2f}\".format(recall_score(y_test, y_pred)))\n",
        "print(\"f1_score ==> {:0.2f}\".format(f1_score(y_test, y_pred)))"
      ],
      "execution_count": null,
      "outputs": [
        {
          "output_type": "stream",
          "text": [
            "accuracy ==> 86%\n",
            "precision ==> 79%\n",
            "recall ==> 0.84\n",
            "f1_score ==> 0.81\n"
          ],
          "name": "stdout"
        }
      ]
    },
    {
      "cell_type": "markdown",
      "metadata": {
        "id": "4nov9bvFH3pH"
      },
      "source": [
        "random forest avec features engineering"
      ]
    },
    {
      "cell_type": "code",
      "metadata": {
        "id": "Cn8o_ernIeEj"
      },
      "source": [
        "from sklearn.ensemble import RandomForestClassifier\n",
        "from sklearn.model_selection import GridSearchCV\n",
        "\n",
        "\n",
        "rf_model = RandomForestClassifier(n_estimators=15)\n",
        "rf_model.fit(x_trainf, y_trainf)\n",
        "y_predf = rf_model.predict(x_testf)"
      ],
      "execution_count": null,
      "outputs": []
    },
    {
      "cell_type": "code",
      "metadata": {
        "colab": {
          "base_uri": "https://localhost:8080/",
          "height": 296
        },
        "id": "R0gQYM54IwJT",
        "outputId": "e17f9b74-ae17-4df7-bfdb-6ef838f61cd6"
      },
      "source": [
        "from sklearn.metrics import plot_confusion_matrix\n",
        "plot_confusion_matrix(rf_model, x_testf, y_testf,  cmap=plt.cm.Blues,values_format='d' ,normalize=None ,display_labels=['No', 'Yes'])"
      ],
      "execution_count": null,
      "outputs": [
        {
          "output_type": "execute_result",
          "data": {
            "text/plain": [
              "<sklearn.metrics._plot.confusion_matrix.ConfusionMatrixDisplay at 0x7f274b570590>"
            ]
          },
          "metadata": {
            "tags": []
          },
          "execution_count": 255
        },
        {
          "output_type": "display_data",
          "data": {
            "image/png": "[encoded data removed]",
            "text/plain": [
              "<Figure size 432x288 with 2 Axes>"
            ]
          },
          "metadata": {
            "tags": [],
            "needs_background": "light"
          }
        }
      ]
    },
    {
      "cell_type": "code",
      "metadata": {
        "colab": {
          "base_uri": "https://localhost:8080/"
        },
        "id": "hA9SEZYsIy8a",
        "outputId": "296ea15c-f1b4-44a5-feaa-3adbeed91573"
      },
      "source": [
        "from sklearn.metrics import *\n",
        "print(\"accuracy ==> {0:.0%}\".format(accuracy_score(y_testf, y_predf)))\n",
        "print(\"precision ==> {0:.0%}\".format(precision_score(y_testf, y_predf)))\n",
        "print(\"recall ==> {:0.2f}\".format(recall_score(y_testf, y_predf)))\n",
        "print(\"f1_score ==> {:0.2f}\".format(f1_score(y_testf, y_predf)))"
      ],
      "execution_count": null,
      "outputs": [
        {
          "output_type": "stream",
          "text": [
            "accuracy ==> 82%\n",
            "precision ==> 74%\n",
            "recall ==> 0.78\n",
            "f1_score ==> 0.76\n"
          ],
          "name": "stdout"
        }
      ]
    },
    {
      "cell_type": "markdown",
      "metadata": {
        "id": "06yVz3aWG7VK"
      },
      "source": [
        "gride seach sans features engineering"
      ]
    },
    {
      "cell_type": "code",
      "metadata": {
        "id": "UQi253DLGQHL"
      },
      "source": [
        "\n",
        "rf_params = {'criterion' : ['gini', 'entropy'],\n",
        "             'n_estimators': list(range(5, 50,5)),\n",
        "             'max_depth': list(range(3, 20, 2)),\n",
        "             'max_features': [None,'log2','sqrt']}\n",
        "rf_model = GridSearchCV(RandomForestClassifier(), rf_params, cv=5)\n",
        "rf_model.fit(x_train, y_train)\n",
        "y_pred = rf_model.predict(x_test)"
      ],
      "execution_count": null,
      "outputs": []
    },
    {
      "cell_type": "code",
      "metadata": {
        "colab": {
          "base_uri": "https://localhost:8080/",
          "height": 296
        },
        "id": "Rhl_ruJ2GcEe",
        "outputId": "7fdda661-cbfa-4940-e866-de2e27347ce1"
      },
      "source": [
        "from sklearn.metrics import plot_confusion_matrix\n",
        "plot_confusion_matrix(rf_model, x_test, y_test,  cmap=plt.cm.Blues,values_format='d' ,normalize=None ,display_labels=['No', 'Yes'])"
      ],
      "execution_count": null,
      "outputs": [
        {
          "output_type": "execute_result",
          "data": {
            "text/plain": [
              "<sklearn.metrics._plot.confusion_matrix.ConfusionMatrixDisplay at 0x7f53953844d0>"
            ]
          },
          "metadata": {
            "tags": []
          },
          "execution_count": 178
        },
        {
          "output_type": "display_data",
          "data": {
            "image/png": "[encoded data removed]",
            "text/plain": [
              "<Figure size 432x288 with 2 Axes>"
            ]
          },
          "metadata": {
            "tags": [],
            "needs_background": "light"
          }
        }
      ]
    },
    {
      "cell_type": "code",
      "metadata": {
        "colab": {
          "base_uri": "https://localhost:8080/"
        },
        "id": "n1Y9ALTSGugY",
        "outputId": "470de21b-f4da-4ca7-93d5-3e3ea2c595f5"
      },
      "source": [
        "from sklearn.metrics import *\n",
        "print(\"accuracy ==> {0:.0%}\".format(accuracy_score(y_test, y_pred)))\n",
        "print(\"precision ==> {0:.0%}\".format(precision_score(y_test, y_pred)))\n",
        "print(\"recall ==> {:0.2f}\".format(recall_score(y_test, y_pred)))\n",
        "print(\"f1_score ==> {:0.2f}\".format(f1_score(y_test, y_pred)))"
      ],
      "execution_count": null,
      "outputs": [
        {
          "output_type": "stream",
          "text": [
            "accuracy ==> 86%\n",
            "precision ==> 78%\n",
            "recall ==> 0.84\n",
            "f1_score ==> 0.81\n"
          ],
          "name": "stdout"
        }
      ]
    },
    {
      "cell_type": "markdown",
      "metadata": {
        "id": "JtaeI3lkGCI5"
      },
      "source": [
        "grid search avec features engineering"
      ]
    },
    {
      "cell_type": "code",
      "metadata": {
        "id": "G1744wUnWfuT"
      },
      "source": [
        "\n",
        "rf_params = {'criterion' : ['gini', 'entropy'],\n",
        "             'n_estimators': list(range(5, 50,5)),\n",
        "             'max_depth': list(range(3, 20, 2)),\n",
        "             'max_features': [None,'log2','sqrt']}\n",
        "rf_model = GridSearchCV(RandomForestClassifier(), rf_params,scoring='recall' ,cv=5)\n",
        "rf_model.fit(x_trainf, y_trainf)\n",
        "y_predf = rf_model.predict(x_testf)"
      ],
      "execution_count": null,
      "outputs": []
    },
    {
      "cell_type": "code",
      "metadata": {
        "id": "dAxicOJd2R3K",
        "colab": {
          "base_uri": "https://localhost:8080/"
        },
        "outputId": "b2c2533b-508d-4186-afe8-e4cf0f74f6a0"
      },
      "source": [
        "best_parms_rf = rf_model.best_params_\n",
        "best_parms_rf"
      ],
      "execution_count": null,
      "outputs": [
        {
          "output_type": "execute_result",
          "data": {
            "text/plain": [
              "{'criterion': 'entropy',\n",
              " 'max_depth': 3,\n",
              " 'max_features': None,\n",
              " 'n_estimators': 45}"
            ]
          },
          "metadata": {
            "tags": []
          },
          "execution_count": 181
        }
      ]
    },
    {
      "cell_type": "code",
      "metadata": {
        "id": "dZAWQA0sXa8R",
        "colab": {
          "base_uri": "https://localhost:8080/",
          "height": 296
        },
        "outputId": "57314c06-1a8d-4a9e-ba21-0a7d98c599c4"
      },
      "source": [
        "from sklearn.metrics import plot_confusion_matrix\n",
        "plot_confusion_matrix(rf_model, x_testf, y_testf,  cmap=plt.cm.Blues,values_format='d' ,normalize=None ,display_labels=['No', 'Yes'])"
      ],
      "execution_count": null,
      "outputs": [
        {
          "output_type": "execute_result",
          "data": {
            "text/plain": [
              "<sklearn.metrics._plot.confusion_matrix.ConfusionMatrixDisplay at 0x7f53960aabd0>"
            ]
          },
          "metadata": {
            "tags": []
          },
          "execution_count": 182
        },
        {
          "output_type": "display_data",
          "data": {
            "image/png": "[encoded data removed]",
            "text/plain": [
              "<Figure size 432x288 with 2 Axes>"
            ]
          },
          "metadata": {
            "tags": [],
            "needs_background": "light"
          }
        }
      ]
    },
    {
      "cell_type": "code",
      "metadata": {
        "id": "dcYYM8lSX2DN",
        "colab": {
          "base_uri": "https://localhost:8080/"
        },
        "outputId": "236eb570-87e5-4f78-80fb-b9288fcf0f4c"
      },
      "source": [
        "from sklearn.metrics import *\n",
        "print(\"accuracy ==> {0:.0%}\".format(accuracy_score(y_testf, y_predf)))\n",
        "print(\"precision ==> {0:.0%}\".format(precision_score(y_testf, y_predf)))\n",
        "print(\"recall ==> {:0.2f}\".format(recall_score(y_testf, y_predf)))\n",
        "print(\"f1_score ==> {:0.2f}\".format(f1_score(y_testf, y_predf)))"
      ],
      "execution_count": null,
      "outputs": [
        {
          "output_type": "stream",
          "text": [
            "accuracy ==> 86%\n",
            "precision ==> 78%\n",
            "recall ==> 0.85\n",
            "f1_score ==> 0.82\n"
          ],
          "name": "stdout"
        }
      ]
    },
    {
      "cell_type": "markdown",
      "metadata": {
        "id": "puux2ztecF9_"
      },
      "source": [
        "# **Hard Voting**"
      ]
    },
    {
      "cell_type": "code",
      "metadata": {
        "id": "SFVKHDZc2nqD"
      },
      "source": [
        "from sklearn.ensemble import  VotingClassifier\n",
        "\n",
        "\n",
        "models = [('lr', LogisticRegression(penalty=best_parms_log['penalty'],C=best_parms_log['C'], \n",
        "                                    solver=best_parms_log['solver'],\n",
        "                                    )),\n",
        "          ('gnb',GaussianNB()),\n",
        "          ('svc', SVC(C=best_parms_svc['C'], kernel=best_parms_svc['kernel'],\n",
        "                      probability=True)),\n",
        "          ('dt', tree.DecisionTreeClassifier(criterion=best_params_dt['criterion'],\n",
        "                                             max_depth=best_params_dt['max_depth'],\n",
        "                                             splitter=best_params_dt['splitter'])),\n",
        "          \n",
        "          ('rf', RandomForestClassifier(n_estimators=best_parms_rf['n_estimators'],\n",
        "                                        criterion=best_parms_rf['criterion'], max_depth=best_parms_rf['max_depth'],\n",
        "                                        max_features=best_parms_rf['max_features']\n",
        "                                        ))\n",
        "          ]"
      ],
      "execution_count": null,
      "outputs": []
    },
    {
      "cell_type": "code",
      "metadata": {
        "id": "UdzRhYOFcqqY"
      },
      "source": [
        "ensemble = VotingClassifier(estimators=models, voting='hard')\n",
        "y_predf = ensemble.fit(x_trainf, y_trainf).predict(x_testf)"
      ],
      "execution_count": null,
      "outputs": []
    },
    {
      "cell_type": "code",
      "metadata": {
        "colab": {
          "base_uri": "https://localhost:8080/",
          "height": 296
        },
        "id": "VfZJ3O7KcvO_",
        "outputId": "f76c0ce6-ce6b-4ccb-f80b-f463623a3a73"
      },
      "source": [
        "from sklearn.metrics import plot_confusion_matrix, roc_curve, roc_auc_score\n",
        "plot_confusion_matrix(ensemble, x_testf, y_testf,  cmap=plt.cm.Blues,values_format='d' ,normalize=None ,display_labels=['No', 'Yes'])"
      ],
      "execution_count": null,
      "outputs": [
        {
          "output_type": "execute_result",
          "data": {
            "text/plain": [
              "<sklearn.metrics._plot.confusion_matrix.ConfusionMatrixDisplay at 0x7f53953c6890>"
            ]
          },
          "metadata": {
            "tags": []
          },
          "execution_count": 186
        },
        {
          "output_type": "display_data",
          "data": {
            "image/png": "[encoded data removed]",
            "text/plain": [
              "<Figure size 432x288 with 2 Axes>"
            ]
          },
          "metadata": {
            "tags": [],
            "needs_background": "light"
          }
        }
      ]
    },
    {
      "cell_type": "code",
      "metadata": {
        "colab": {
          "base_uri": "https://localhost:8080/"
        },
        "id": "9bwrxM-ic5AR",
        "outputId": "7d4a825c-cc12-4632-fd22-5e9045e12fb7"
      },
      "source": [
        "from sklearn.metrics import *\n",
        "print(\"accuracy ==> {0:.0%}\".format(accuracy_score(y_testf, y_predf)))\n",
        "print(\"precision ==> {0:.0%}\".format(precision_score(y_testf, y_predf)))\n",
        "print(\"recall ==> {:0.2f}\".format(recall_score(y_testf, y_predf)))\n",
        "print(\"f1_score ==> {:0.2f}\".format(f1_score(y_testf, y_predf)))"
      ],
      "execution_count": null,
      "outputs": [
        {
          "output_type": "stream",
          "text": [
            "accuracy ==> 86%\n",
            "precision ==> 77%\n",
            "recall ==> 0.85\n",
            "f1_score ==> 0.81\n"
          ],
          "name": "stdout"
        }
      ]
    },
    {
      "cell_type": "markdown",
      "metadata": {
        "id": "Ay2XSIE8bjLn"
      },
      "source": [
        "# **Soft Voting**"
      ]
    },
    {
      "cell_type": "code",
      "metadata": {
        "id": "qAcSKO3GB9lj"
      },
      "source": [
        "ensemble = VotingClassifier(estimators=models, voting='soft')\n",
        "y_predf = ensemble.fit(x_trainf, y_trainf).predict(x_testf)"
      ],
      "execution_count": null,
      "outputs": []
    },
    {
      "cell_type": "code",
      "metadata": {
        "id": "0MFdGs4CDvLs",
        "colab": {
          "base_uri": "https://localhost:8080/",
          "height": 296
        },
        "outputId": "0018ff3d-1640-4ba4-a97e-4fbbc539a16c"
      },
      "source": [
        "from sklearn.metrics import plot_confusion_matrix, roc_curve, roc_auc_score\n",
        "plot_confusion_matrix(ensemble, x_testf, y_testf,  cmap=plt.cm.Blues,values_format='d' ,normalize=None ,display_labels=['No', 'Yes'])"
      ],
      "execution_count": null,
      "outputs": [
        {
          "output_type": "execute_result",
          "data": {
            "text/plain": [
              "<sklearn.metrics._plot.confusion_matrix.ConfusionMatrixDisplay at 0x7f274b4fe810>"
            ]
          },
          "metadata": {
            "tags": []
          },
          "execution_count": 249
        },
        {
          "output_type": "display_data",
          "data": {
            "image/png": "[encoded data removed]",
            "text/plain": [
              "<Figure size 432x288 with 2 Axes>"
            ]
          },
          "metadata": {
            "tags": [],
            "needs_background": "light"
          }
        }
      ]
    },
    {
      "cell_type": "code",
      "metadata": {
        "id": "pzMsrld1H0KM",
        "colab": {
          "base_uri": "https://localhost:8080/"
        },
        "outputId": "3428b2c5-8691-4432-a06c-bdd97f635e95"
      },
      "source": [
        "from sklearn.metrics import *\n",
        "print(\"accuracy ==> {0:.0%}\".format(accuracy_score(y_testf, y_predf)))\n",
        "print(\"precision ==> {0:.0%}\".format(precision_score(y_testf, y_predf)))\n",
        "print(\"recall ==> {:0.2f}\".format(recall_score(y_testf, y_predf)))\n",
        "print(\"f1_score ==> {:0.2f}\".format(f1_score(y_testf, y_predf)))"
      ],
      "execution_count": null,
      "outputs": [
        {
          "output_type": "stream",
          "text": [
            "accuracy ==> 90%\n",
            "precision ==> 83%\n",
            "recall ==> 0.91\n",
            "f1_score ==> 0.87\n"
          ],
          "name": "stdout"
        }
      ]
    }
  ]
}